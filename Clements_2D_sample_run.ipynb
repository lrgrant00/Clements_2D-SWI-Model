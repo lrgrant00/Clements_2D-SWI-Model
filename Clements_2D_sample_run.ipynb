{
 "cells": [
  {
   "cell_type": "markdown",
   "id": "1da31912-8b75-42e2-b0f9-dc523e551c03",
   "metadata": {},
   "source": [
    "# Clements_2D Sample Run\n",
    "\n",
    "Sampling of model runs for the low precipitation year, 1985.\n",
    "\n",
    "- - - - - - - - - - - - - - - - - - - - - - - - - - - - - - - - - - \n",
    "\n",
    "Cover: path to Clements directory + \"/output/land_cover/new_clm_files/cropland_veg_mosaic/drv_vegm.dat\"\n",
    "\n",
    "Forcing: Variable, made in-place\n",
    "\n",
    "Hydraulic Conductivity: WSS Uniform, *k = 0.2*\n",
    "\n",
    "Geological Profile: Bowen's Road in Broomes Island Quadrant\n",
    "\n",
    "Forcing Keys:\n",
    "> **OG**: original <br/>\n",
    "> **TLE**: low emissions temperature projection <br/>\n",
    "> **THE**: high emissions temperature projection <br/>\n",
    "> **MS**: many storms <br/>\n",
    "> **FS**: few storms <br/>\n",
    "> **SLR1**: 2100 Sea Level Rise Preciction for SSP1-1.9 <br/>\n",
    "> **SLR2**: 2100 Sea Level Rise Preciction for SSP2-4.5 <br/>\n",
    "> **SLR5**: 2100 Sea Level Rise Preciction for SSP5-8.5 <br/>"
   ]
  },
  {
   "cell_type": "code",
   "execution_count": 1,
   "id": "0ec24b96-ff72-4ae4-a367-2f7034ce358b",
   "metadata": {},
   "outputs": [],
   "source": [
    "# Import the ParFlow packages\n",
    "\n",
    "import parflow as pf\n",
    "from parflow import Run\n",
    "from parflow.tools.io import write_pfb, read_pfb\n",
    "from parflow.tools.fs import mkdir, cp, chdir, get_absolute_path, rm, exists\n",
    "import parflow.tools.hydrology as hydro\n",
    "import os\n",
    "import shutil\n",
    "import numpy as np\n",
    "import matplotlib.pyplot as plt\n",
    "import pandas as pd\n",
    "from copy import deepcopy\n",
    "from glob import glob"
   ]
  },
  {
   "cell_type": "markdown",
   "id": "611a6104-8daf-44d2-8bc3-e6127933ac8a",
   "metadata": {},
   "source": [
    "# Single Parameter Runs"
   ]
  },
  {
   "cell_type": "markdown",
   "id": "52fc8171-ed92-4048-828f-cddb89a38d43",
   "metadata": {},
   "source": [
    "This section runs the forcing parameters on their own, saving the runs in a folder with the run key name. We also create forcing files as needed, saving them to the folder with the associated run key name."
   ]
  },
  {
   "cell_type": "markdown",
   "id": "aaaf4fee-3794-427d-826d-b9f225885bc4",
   "metadata": {
    "jp-MarkdownHeadingCollapsed": true
   },
   "source": [
    "## OG"
   ]
  },
  {
   "cell_type": "code",
   "execution_count": 3,
   "id": "048b4f7a-26b3-48f8-9ddd-a70f246c3252",
   "metadata": {},
   "outputs": [
    {
     "name": "stdout",
     "output_type": "stream",
     "text": [
      "/home/lrgrant/ParFlow/Clements_2D/output\n"
     ]
    }
   ],
   "source": [
    "#-----------------------------------------------------------------------------\n",
    "# Setting Initial Parameters\n",
    "#-----------------------------------------------------------------------------\n",
    "os.chdir(\"/home/lrgrant/ParFlow/Clements_2D\")\n",
    "# print(os.getcwd())\n",
    "\n",
    "#relative_path_to_runfolder = 'output_wb'\n",
    "base = '/home/lrgrant/ParFlow/Clements_2D/output/output_1985/OG'\n",
    "# print(base)\n",
    "\n",
    "# Set our Run Name \n",
    "PFCLM_1985_OG = Run(\"PFCLM_1985_OG\")\n",
    "\n",
    "stopt = 8760 ## run only for all hours of the year\n",
    "\n",
    "#-----------------------------------------------------------------------------\n",
    "# Copying Input Files into Run Directory\n",
    "#-----------------------------------------------------------------------------\n",
    "\n",
    "# locate necessary input files\n",
    "input_file_clmin = os.getcwd() + \"/forcing/forcing_1985/drv_clmin.dat\"\n",
    "input_file_vegp = os.getcwd() + \"/forcing/forcing_1985/drv_vegp.dat\"\n",
    "input_file_vegm = os.getcwd() + \"/output/land_cover/new_clm_files/cropland_veg_mosaic/drv_vegm.dat\"\n",
    "\n",
    "# define where we want input files to go (in working directory)\n",
    "output_clmin = os.getcwd() + \"/output/output_1985/OG/drv_clmin.dat\"\n",
    "output_vegp = os.getcwd() + \"/output/output_1985/OG/drv_vegp.dat\"\n",
    "output_vegm = os.getcwd() + \"/output/output_1985/OG/drv_vegm.dat\"\n",
    "\n",
    "# Copy CLM Inputs into working directory\n",
    "shutil.copyfile(input_file_clmin, output_clmin)\n",
    "shutil.copyfile(input_file_vegp, output_vegp)\n",
    "shutil.copyfile(input_file_vegm, output_vegm)\n",
    "\n",
    "#-----------------------------------------------------------------------------\n",
    "# Set Directory\n",
    "#-----------------------------------------------------------------------------\n",
    "\n",
    "os.chdir(base + \"/../..\")\n",
    "# print(os.getcwd())\n",
    "\n",
    "#-----------------------------------------------------------------------------\n",
    "# File input version number\n",
    "#-----------------------------------------------------------------------------\n",
    "PFCLM_1985_OG.FileVersion = 4\n",
    "\n",
    "#-----------------------------------------------------------------------------\n",
    "# Process Topology\n",
    "#-----------------------------------------------------------------------------\n",
    "\n",
    "PFCLM_1985_OG.Process.Topology.P = 1\n",
    "PFCLM_1985_OG.Process.Topology.Q = 1\n",
    "PFCLM_1985_OG.Process.Topology.R = 1\n",
    "\n",
    "#-----------------------------------------------------------------------------\n",
    "# Computational Grid\n",
    "#-----------------------------------------------------------------------------\n",
    "PFCLM_1985_OG.ComputationalGrid.Lower.X = 0.0\n",
    "PFCLM_1985_OG.ComputationalGrid.Lower.Y = 0.0\n",
    "PFCLM_1985_OG.ComputationalGrid.Lower.Z = 0.0\n",
    "\n",
    "PFCLM_1985_OG.ComputationalGrid.DX      = 100.0\n",
    "PFCLM_1985_OG.ComputationalGrid.DY      = 2.0\n",
    "PFCLM_1985_OG.ComputationalGrid.DZ      = 1.0\n",
    "\n",
    "PFCLM_1985_OG.ComputationalGrid.NX      = 20\n",
    "PFCLM_1985_OG.ComputationalGrid.NY      = 1\n",
    "PFCLM_1985_OG.ComputationalGrid.NZ      = 8\n",
    "\n",
    "#-----------------------------------------------------------------------------\n",
    "# The Names of the GeomInputs\n",
    "#-----------------------------------------------------------------------------\n",
    "PFCLM_1985_OG.GeomInput.Names = 'domain_input'\n",
    "\n",
    "#-----------------------------------------------------------------------------\n",
    "# Domain Geometry Input\n",
    "#-----------------------------------------------------------------------------\n",
    "PFCLM_1985_OG.GeomInput.domain_input.InputType = 'Box'\n",
    "PFCLM_1985_OG.GeomInput.domain_input.GeomName  = 'domain'\n",
    "\n",
    "#-----------------------------------------------------------------------------\n",
    "# Domain Geometry\n",
    "#-----------------------------------------------------------------------------\n",
    "PFCLM_1985_OG.Geom.domain.Lower.X = 0.0\n",
    "PFCLM_1985_OG.Geom.domain.Lower.Y = 0.0\n",
    "PFCLM_1985_OG.Geom.domain.Lower.Z = 0.0\n",
    "\n",
    "PFCLM_1985_OG.Geom.domain.Upper.X = 2000.0\n",
    "PFCLM_1985_OG.Geom.domain.Upper.Y = 2.0\n",
    "PFCLM_1985_OG.Geom.domain.Upper.Z = 8.0\n",
    "\n",
    "PFCLM_1985_OG.Geom.domain.Patches = 'x_lower x_upper y_lower y_upper z_lower z_upper'\n",
    "\n",
    "#--------------------------------------------\n",
    "# variable dz assignments\n",
    "#------------------------------------------\n",
    "\n",
    "PFCLM_1985_OG.Solver.Nonlinear.VariableDz = True\n",
    "PFCLM_1985_OG.dzScale.GeomNames           = 'domain'\n",
    "PFCLM_1985_OG.dzScale.Type                = 'nzList'\n",
    "PFCLM_1985_OG.dzScale.nzListNumber        = 8\n",
    "\n",
    "# cells start at the bottom (0) and move up to the top\n",
    "# domain is 75 m thick, root zone is down to 4 cells \n",
    "# so the root zone is 2 m thick   \n",
    "PFCLM_1985_OG.Cell._0.dzScale.Value  = 18.0   \n",
    "PFCLM_1985_OG.Cell._1.dzScale.Value  = 24.0\n",
    "PFCLM_1985_OG.Cell._2.dzScale.Value  = 30.0\n",
    "PFCLM_1985_OG.Cell._3.dzScale.Value  = 1.0    \n",
    "PFCLM_1985_OG.Cell._4.dzScale.Value  = 1.0   # top of rooting zone - leaving unchanged\n",
    "PFCLM_1985_OG.Cell._5.dzScale.Value  = 0.6   #0.6* 1.0 = 0.6  60 cm 3rd layer\n",
    "PFCLM_1985_OG.Cell._6.dzScale.Value  = 0.3   #0.3* 1.0 = 0.3  30 cm 2nd layer\n",
    "PFCLM_1985_OG.Cell._7.dzScale.Value  = 0.1   #0.1* 1.0 = 0.1  10 cm top layer\n",
    "\n",
    "#-----------------------------------------------------------------------------\n",
    "# Perm\n",
    "#-----------------------------------------------------------------------------\n",
    "PFCLM_1985_OG.Geom.Perm.Names              = 'domain'\n",
    "\n",
    "PFCLM_1985_OG.Geom.domain.Perm.Type        = 'Constant'\n",
    "PFCLM_1985_OG.Geom.domain.Perm.Value       = 0.2  # m/h\n",
    "\n",
    "PFCLM_1985_OG.Perm.TensorType              = 'TensorByGeom'\n",
    "PFCLM_1985_OG.Geom.Perm.TensorByGeom.Names = 'domain'\n",
    "PFCLM_1985_OG.Geom.domain.Perm.TensorValX  = 1.0\n",
    "PFCLM_1985_OG.Geom.domain.Perm.TensorValY  = 1.0\n",
    "PFCLM_1985_OG.Geom.domain.Perm.TensorValZ  = 1.0\n",
    "\n",
    "#-----------------------------------------------------------------------------\n",
    "# Specific Storage\n",
    "#-----------------------------------------------------------------------------\n",
    "\n",
    "PFCLM_1985_OG.SpecificStorage.Type              = 'Constant'\n",
    "PFCLM_1985_OG.SpecificStorage.GeomNames         = 'domain'\n",
    "PFCLM_1985_OG.Geom.domain.SpecificStorage.Value = 1.0e-4\n",
    "\n",
    "#-----------------------------------------------------------------------------\n",
    "# Phases\n",
    "#-----------------------------------------------------------------------------\n",
    "\n",
    "PFCLM_1985_OG.Phase.Names = 'water'\n",
    "\n",
    "PFCLM_1985_OG.Phase.water.Density.Type     = 'Constant'\n",
    "PFCLM_1985_OG.Phase.water.Density.Value    = 1.0\n",
    "\n",
    "PFCLM_1985_OG.Phase.water.Viscosity.Type   = 'Constant'\n",
    "PFCLM_1985_OG.Phase.water.Viscosity.Value  = 1.0\n",
    "\n",
    "#-----------------------------------------------------------------------------\n",
    "# Contaminants\n",
    "#-----------------------------------------------------------------------------\n",
    "PFCLM_1985_OG.Contaminants.Names = ''\n",
    "\n",
    "#-----------------------------------------------------------------------------\n",
    "# Gravity\n",
    "#-----------------------------------------------------------------------------\n",
    "\n",
    "PFCLM_1985_OG.Gravity = 1.0\n",
    "\n",
    "#-----------------------------------------------------------------------------\n",
    "# Setup timing info\n",
    "#-----------------------------------------------------------------------------\n",
    "\n",
    "PFCLM_1985_OG.TimingInfo.BaseUnit     = 1.0\n",
    "PFCLM_1985_OG.TimingInfo.StartCount   = 0\n",
    "PFCLM_1985_OG.TimingInfo.StartTime    = 0.0\n",
    "PFCLM_1985_OG.TimingInfo.StopTime     = stopt\n",
    "PFCLM_1985_OG.TimingInfo.DumpInterval = 1.0\n",
    "PFCLM_1985_OG.TimeStep.Type           = 'Constant'\n",
    "PFCLM_1985_OG.TimeStep.Value          = 1.0\n",
    "\n",
    "\n",
    "#-----------------------------------------------------------------------------\n",
    "# Porosity\n",
    "#-----------------------------------------------------------------------------\n",
    "\n",
    "PFCLM_1985_OG.Geom.Porosity.GeomNames    = 'domain'\n",
    "\n",
    "PFCLM_1985_OG.Geom.domain.Porosity.Type  = 'Constant'\n",
    "PFCLM_1985_OG.Geom.domain.Porosity.Value = 0.25\n",
    "\n",
    "#-----------------------------------------------------------------------------\n",
    "# Domain\n",
    "#-----------------------------------------------------------------------------\n",
    "PFCLM_1985_OG.Domain.GeomName = 'domain'\n",
    "\n",
    "#-----------------------------------------------------------------------------\n",
    "# Mobility\n",
    "#-----------------------------------------------------------------------------\n",
    "PFCLM_1985_OG.Phase.water.Mobility.Type  = 'Constant'\n",
    "PFCLM_1985_OG.Phase.water.Mobility.Value = 1.0\n",
    "\n",
    "#-----------------------------------------------------------------------------\n",
    "# Relative Permeability\n",
    "#-----------------------------------------------------------------------------\n",
    "\n",
    "PFCLM_1985_OG.Phase.RelPerm.Type        = 'VanGenuchten'\n",
    "PFCLM_1985_OG.Phase.RelPerm.GeomNames   = 'domain'\n",
    "\n",
    "PFCLM_1985_OG.Geom.domain.RelPerm.Alpha = 2.0\n",
    "PFCLM_1985_OG.Geom.domain.RelPerm.N     = 3.0\n",
    "\n",
    "#---------------------------------------------------------\n",
    "# Saturation\n",
    "#---------------------------------------------------------\n",
    "\n",
    "PFCLM_1985_OG.Phase.Saturation.Type        = 'VanGenuchten'\n",
    "PFCLM_1985_OG.Phase.Saturation.GeomNames   = 'domain'\n",
    "\n",
    "PFCLM_1985_OG.Geom.domain.Saturation.Alpha = 2.0\n",
    "PFCLM_1985_OG.Geom.domain.Saturation.N     = 3.0\n",
    "PFCLM_1985_OG.Geom.domain.Saturation.SRes  = 0.2\n",
    "PFCLM_1985_OG.Geom.domain.Saturation.SSat  = 1.0\n",
    "\n",
    "#-----------------------------------------------------------------------------\n",
    "# Wells\n",
    "#-----------------------------------------------------------------------------\n",
    "PFCLM_1985_OG.Wells.Names = ''\n",
    "\n",
    "\n",
    "#-----------------------------------------------------------------------------\n",
    "# Time Cycles\n",
    "#-----------------------------------------------------------------------------\n",
    "PFCLM_1985_OG.Cycle.Names = 'constant'\n",
    "PFCLM_1985_OG.Cycle.constant.Names = 'alltime'\n",
    "PFCLM_1985_OG.Cycle.constant.alltime.Length = 1\n",
    "PFCLM_1985_OG.Cycle.constant.Repeat = -1\n",
    "\n",
    "#-----------------------------------------------------------------------------\n",
    "# Boundary Conditions: Pressure\n",
    "#-----------------------------------------------------------------------------\n",
    "PFCLM_1985_OG.BCPressure.PatchNames = 'x_lower x_upper y_lower y_upper z_lower z_upper'\n",
    "\n",
    "PFCLM_1985_OG.Patch.y_lower.BCPressure.Type          = 'FluxConst'\n",
    "PFCLM_1985_OG.Patch.y_lower.BCPressure.Cycle         = 'constant'\n",
    "PFCLM_1985_OG.Patch.y_lower.BCPressure.alltime.Value = 0.0\n",
    "\n",
    "PFCLM_1985_OG.Patch.z_lower.BCPressure.Type = 'FluxConst'\n",
    "PFCLM_1985_OG.Patch.z_lower.BCPressure.Cycle         = 'constant'\n",
    "PFCLM_1985_OG.Patch.z_lower.BCPressure.alltime.Value = 0.0\n",
    "\n",
    "PFCLM_1985_OG.Patch.x_lower.BCPressure.Type          = 'FluxConst'\n",
    "PFCLM_1985_OG.Patch.x_lower.BCPressure.Cycle         = 'constant'\n",
    "PFCLM_1985_OG.Patch.x_lower.BCPressure.alltime.Value = 0.0\n",
    "\n",
    "PFCLM_1985_OG.Patch.x_upper.BCPressure.Type          = 'DirEquilRefPatch'\n",
    "PFCLM_1985_OG.Patch.x_upper.BCPressure.RefGeom       = 'domain'\n",
    "PFCLM_1985_OG.Patch.x_upper.BCPressure.RefPatch      = 'z_upper'\n",
    "PFCLM_1985_OG.Patch.x_upper.BCPressure.Cycle         = 'constant'\n",
    "PFCLM_1985_OG.Patch.x_upper.BCPressure.alltime.Value = -2.0  # ocean boundary is 2m below land surface\n",
    "\n",
    "PFCLM_1985_OG.Patch.y_upper.BCPressure.Type          = 'FluxConst'\n",
    "PFCLM_1985_OG.Patch.y_upper.BCPressure.Cycle         = 'constant'\n",
    "PFCLM_1985_OG.Patch.y_upper.BCPressure.alltime.Value = 0.0\n",
    "\n",
    "PFCLM_1985_OG.Patch.z_upper.BCPressure.Type          = 'OverlandFlow'\n",
    "PFCLM_1985_OG.Patch.z_upper.BCPressure.Cycle         = 'constant'\n",
    "PFCLM_1985_OG.Patch.z_upper.BCPressure.alltime.Value = 0.0\n",
    "\n",
    "#---------------------------------------------------------\n",
    "# Topo slopes in x-direction\n",
    "#---------------------------------------------------------\n",
    "\n",
    "PFCLM_1985_OG.TopoSlopesX.Type              = 'Constant'\n",
    "PFCLM_1985_OG.TopoSlopesX.GeomNames         = 'domain'\n",
    "PFCLM_1985_OG.TopoSlopesX.Geom.domain.Value = -0.1  #slope in X-direction to allow ponded water to run off\n",
    "\n",
    "#---------------------------------------------------------\n",
    "# Topo slopes in y-direction\n",
    "#---------------------------------------------------------\n",
    "\n",
    "PFCLM_1985_OG.TopoSlopesY.Type              = 'Constant'\n",
    "PFCLM_1985_OG.TopoSlopesY.GeomNames         = 'domain'\n",
    "PFCLM_1985_OG.TopoSlopesY.Geom.domain.Value = 0.0\n",
    "\n",
    "#---------------------------------------------------------\n",
    "# Mannings coefficient\n",
    "#---------------------------------------------------------\n",
    "\n",
    "PFCLM_1985_OG.Mannings.Type               = 'Constant'\n",
    "PFCLM_1985_OG.Mannings.GeomNames          = 'domain'\n",
    "PFCLM_1985_OG.Mannings.Geom.domain.Value  = 2.e-6\n",
    "\n",
    "#-----------------------------------------------------------------------------\n",
    "# Phase sources:\n",
    "#-----------------------------------------------------------------------------\n",
    "\n",
    "PFCLM_1985_OG.PhaseSources.water.Type              = 'Constant'\n",
    "PFCLM_1985_OG.PhaseSources.water.GeomNames         = 'domain'\n",
    "PFCLM_1985_OG.PhaseSources.water.Geom.domain.Value = 0.0\n",
    "\n",
    "#-----------------------------------------------------------------------------\n",
    "# Exact solution specification for error calculations\n",
    "#-----------------------------------------------------------------------------\n",
    "\n",
    "PFCLM_1985_OG.KnownSolution = 'NoKnownSolution'\n",
    "\n",
    "#-----------------------------------------------------------------------------\n",
    "# Set solver parameters\n",
    "#-----------------------------------------------------------------------------\n",
    "\n",
    "PFCLM_1985_OG.Solver         = 'Richards'\n",
    "PFCLM_1985_OG.Solver.MaxIter = 9000\n",
    "\n",
    "PFCLM_1985_OG.Solver.Nonlinear.MaxIter           = 100\n",
    "PFCLM_1985_OG.Solver.Nonlinear.ResidualTol       = 1e-5\n",
    "PFCLM_1985_OG.Solver.Nonlinear.EtaChoice         = 'Walker1'\n",
    "PFCLM_1985_OG.Solver.Nonlinear.EtaValue          = 0.01\n",
    "PFCLM_1985_OG.Solver.Nonlinear.UseJacobian       = True\n",
    "PFCLM_1985_OG.Solver.Nonlinear.DerivativeEpsilon = 1e-12\n",
    "PFCLM_1985_OG.Solver.Nonlinear.StepTol           = 1e-30\n",
    "PFCLM_1985_OG.Solver.Nonlinear.Globalization     = 'LineSearch'\n",
    "PFCLM_1985_OG.Solver.Linear.KrylovDimension      = 100\n",
    "PFCLM_1985_OG.Solver.Linear.MaxRestarts          = 5\n",
    "PFCLM_1985_OG.Solver.Linear.Preconditioner       = 'PFMG'\n",
    "PFCLM_1985_OG.Solver.PrintSubsurf                = True\n",
    "PFCLM_1985_OG.Solver.Drop                        = 1E-20\n",
    "PFCLM_1985_OG.Solver.AbsTol                      = 1E-9\n",
    "\n",
    "#Writing output options for ParFlow\n",
    "write_pfb = True  #only PFB output for water balance example\n",
    "#  PFB  no SILO\n",
    "PFCLM_1985_OG.Solver.PrintSubsurfData         = write_pfb\n",
    "PFCLM_1985_OG.Solver.PrintPressure            = write_pfb\n",
    "PFCLM_1985_OG.Solver.PrintSaturation          = write_pfb\n",
    "PFCLM_1985_OG.Solver.PrintCLM                 = write_pfb\n",
    "PFCLM_1985_OG.Solver.PrintMask                = write_pfb\n",
    "PFCLM_1985_OG.Solver.PrintSpecificStorage     = write_pfb\n",
    "PFCLM_1985_OG.Solver.PrintEvapTrans           = write_pfb\n",
    "PFCLM_1985_OG.Solver.PrintVelocities          = True \n",
    "\n",
    "PFCLM_1985_OG.Solver.WriteSiloMannings        = False\n",
    "PFCLM_1985_OG.Solver.WriteSiloMask            = False\n",
    "PFCLM_1985_OG.Solver.WriteSiloSlopes          = False\n",
    "PFCLM_1985_OG.Solver.WriteSiloSaturation      = False\n",
    "\n",
    "#write output in NetCDF\n",
    "write_netcdf = False\n",
    "#PFCLM_2D.NetCDF.NumStepsPerFile          = 240\n",
    "PFCLM_1985_OG.NetCDF.WritePressure            = write_netcdf\n",
    "PFCLM_1985_OG.NetCDF.WriteSubsurface          = False\n",
    "PFCLM_1985_OG.NetCDF.WriteSaturation          = write_netcdf\n",
    "PFCLM_1985_OG.NetCDF.WriteCLM                 = write_netcdf\n",
    "#PFCLM_2D.NetCDF.CLMNumStepsPerFile       = 240\n",
    "\n",
    "\n",
    "#---------------------------------------------------\n",
    "# LSM / CLM options\n",
    "#---------------------------------------------------\n",
    "\n",
    "# set LSM options to CLM\n",
    "PFCLM_1985_OG.Solver.LSM              = 'CLM'\n",
    "# specify type of forcing, file name and location\n",
    "PFCLM_1985_OG.Solver.CLM.MetForcing   = '1D'\n",
    "PFCLM_1985_OG.Solver.CLM.MetFileName = 'forcing1D_1985.txt'\n",
    "PFCLM_1985_OG.Solver.CLM.MetFilePath  = os.getcwd() + '/../forcing/forcing_1985'\n",
    "\n",
    "# Set CLM Plant Water Use Parameters\n",
    "PFCLM_1985_OG.Solver.CLM.EvapBeta       = 'Linear'\n",
    "PFCLM_1985_OG.Solver.CLM.VegWaterStress = 'Saturation'\n",
    "PFCLM_1985_OG.Solver.CLM.ResSat         = 0.2\n",
    "PFCLM_1985_OG.Solver.CLM.WiltingPoint   = 0.2\n",
    "PFCLM_1985_OG.Solver.CLM.FieldCapacity  = 1.00\n",
    "PFCLM_1985_OG.Solver.CLM.IrrigationType = 'none'\n",
    "PFCLM_1985_OG.Solver.CLM.RootZoneNZ     =  3   # layer used for seasonal Temp for LAI\n",
    "PFCLM_1985_OG.Solver.CLM.SoiLayer       =  4   # root zone thickness, see above\n",
    "\n",
    "#PFCLM_2D.Solver.CLM.UseSlopeAspect = True\n",
    "\n",
    "#Writing output options for CLM\n",
    "#  no SILO, no native CLM logs\n",
    "PFCLM_1985_OG.Solver.PrintLSMSink        = False\n",
    "PFCLM_1985_OG.Solver.CLM.CLMDumpInterval = 1\n",
    "PFCLM_1985_OG.Solver.CLM.CLMFileDir      = 'output/'\n",
    "PFCLM_1985_OG.Solver.CLM.BinaryOutDir    = False\n",
    "PFCLM_1985_OG.Solver.CLM.IstepStart      = 1\n",
    "PFCLM_1985_OG.Solver.WriteCLMBinary      = False\n",
    "PFCLM_1985_OG.Solver.WriteSiloCLM        = False\n",
    "PFCLM_1985_OG.Solver.CLM.WriteLogs       = False\n",
    "PFCLM_1985_OG.Solver.CLM.WriteLastRST    = True\n",
    "PFCLM_1985_OG.Solver.CLM.DailyRST        = False\n",
    "PFCLM_1985_OG.Solver.CLM.SingleFile      = True\n",
    "\n",
    "\n",
    "#---------------------------------------------------\n",
    "# Initial conditions: water pressure\n",
    "#---------------------------------------------------\n",
    "\n",
    "PFCLM_1985_OG.ICPressure.Type                 = 'HydroStaticPatch'\n",
    "PFCLM_1985_OG.ICPressure.GeomNames            = 'domain'\n",
    "PFCLM_1985_OG.Geom.domain.ICPressure.Value    = -2.00\n",
    "PFCLM_1985_OG.Geom.domain.ICPressure.RefGeom  = 'domain'\n",
    "PFCLM_1985_OG.Geom.domain.ICPressure.RefPatch = 'z_upper'"
   ]
  },
  {
   "cell_type": "code",
   "execution_count": 4,
   "id": "0adb0459-97be-4248-ab48-ba4cb61938b5",
   "metadata": {},
   "outputs": [
    {
     "name": "stdout",
     "output_type": "stream",
     "text": [
      "\n",
      "# ==============================================================================\n",
      "# ParFlow directory\n",
      "#  - /home/SHARED/software/parflow/3.10.0\n",
      "# ParFlow version\n",
      "#  - 3.10.0\n",
      "# Working directory\n",
      "#  - /home/lrgrant/ParFlow/Clements_2D/output/output_1985/OG\n",
      "# ParFlow database\n",
      "#  - PFCLM_1985_OG.pfidb\n",
      "# ==============================================================================\n",
      "\n",
      "\n",
      "# ==============================================================================\n",
      "# ParFlow ran successfully 💦 💦 💦 \n",
      "# ==============================================================================\n",
      "\n"
     ]
    }
   ],
   "source": [
    "# run the model\n",
    "PFCLM_1985_OG.run(working_directory=base)"
   ]
  },
  {
   "cell_type": "code",
   "execution_count": 5,
   "id": "d24b6d0a-6fa9-4ac1-b94d-8cd6ec43b1b6",
   "metadata": {},
   "outputs": [
    {
     "name": "stdout",
     "output_type": "stream",
     "text": [
      "Warning: The following CLM variables could not be set:\n",
      "  - nt\n",
      "  - sw_ini\n",
      "  - hkdepth\n",
      "  - wtfact\n",
      "  - trsmx0\n",
      "  - smpmax\n",
      "  - pondmx\n",
      "\n",
      "# ==============================================================================\n",
      "# ParFlow directory\n",
      "#  - /home/SHARED/software/parflow/3.10.0\n",
      "# ParFlow version\n",
      "#  - 3.10.0\n",
      "# Working directory\n",
      "#  - /home/lrgrant/ParFlow/Clements_2D/output/output_1985/OG\n",
      "# ParFlow database\n",
      "#  - PFCLM_1985_OG.pfidb\n",
      "# ==============================================================================\n",
      "\n",
      "\n"
     ]
    },
    {
     "name": "stderr",
     "output_type": "stream",
     "text": [
      "/home/SHARED/virtual-environments/parflow-shared/conda/lib/python3.11/site-packages/parflow/tools/io.py:1300: FutureWarning: The 'delim_whitespace' keyword in pd.read_csv is deprecated and will be removed in a future version. Use ``sep='\\s+'`` instead\n",
      "  df = pd.read_csv(file_name, delim_whitespace=True, skiprows=2, header=None)\n"
     ]
    },
    {
     "name": "stdout",
     "output_type": "stream",
     "text": [
      "# ==============================================================================\n",
      "# ParFlow ran successfully 💦 💦 💦 \n",
      "# ==============================================================================\n",
      "\n"
     ]
    }
   ],
   "source": [
    "#---------------------------------------------------\n",
    "# Re-Running Model After Equilibration\n",
    "#---------------------------------------------------\n",
    "os.chdir(base)\n",
    "run = Run.from_definition('PFCLM_1985_OG.pfidb')  # load the run from the file, this is the same as the run above\n",
    "data = run.data_accessor # get the data accessor, this makes it easier to access the data from the run\n",
    "nt = len(data.times)  # get the number of time steps\n",
    "nx = data.shape[2]    # get the number of cells in the x direction\n",
    "ny = data.shape[1]    # get the number of cells in the y direction\n",
    "nz = data.shape[0]    # get the number of cells in the z direction\n",
    "dx = data.dx          # get the cell size in the x direction\n",
    "dy = data.dy          # get the cell size in the y direction\n",
    "dz = data.dz          # get the cell size in the z direction, this is a 1D array of size nz\n",
    "\n",
    "# loading grid\n",
    "nrows = nz\n",
    "ncols = nx\n",
    "# print(nrows, ncols)\n",
    "\n",
    "# loading pressure field to re-initialize at final pressure conditions of the prior run\n",
    "# i.e. running at \"equilibrium conditions\"\n",
    "pressure_end = read_pfb(get_absolute_path('PFCLM_1985_OG.out.press.08760.pfb')).reshape(nrows, ncols)\n",
    "\n",
    "# rearrange pressure field into a 3D array\n",
    "pressure_end_new = np.ones((nrows, ny, ncols))\n",
    "for i in range(nrows):\n",
    "    pressure_end_new[[i]] = pressure_end[i,:]\n",
    "\n",
    "# re-import write_pfb function so that the function runs and doesn't try to call boolean assigned before:\n",
    "from parflow.tools.io import write_pfb\n",
    "\n",
    "# write the new initial conditions into a file:\n",
    "write_pfb(get_absolute_path('PF_PressIC.pfb'), pressure_end_new)\n",
    "\n",
    "# we will change the \"initial condition pressure\" value to be the end value from the previous run\n",
    "PFCLM_1985_OG.ICPressure.Type                 = 'PFBFile'\n",
    "PFCLM_1985_OG.Geom.domain.ICPressure.FileName = 'PF_PressIC.pfb'\n",
    "\n",
    "# we will now run the model again\n",
    "PFCLM_1985_OG.run(working_directory=base)"
   ]
  },
  {
   "cell_type": "markdown",
   "id": "db0864b7-e878-4344-8efb-eea1d67fa891",
   "metadata": {
    "jp-MarkdownHeadingCollapsed": true
   },
   "source": [
    "## TLE"
   ]
  },
  {
   "cell_type": "code",
   "execution_count": 8,
   "id": "51465d17-c5f6-4319-9b79-9dd7882fb79a",
   "metadata": {},
   "outputs": [],
   "source": [
    "#-----------------------------------------------------------------------------\n",
    "# Creating Forcing File\n",
    "#-----------------------------------------------------------------------------\n",
    "# load original 1985 forcing file\n",
    "os.chdir(\"/home/lrgrant/ParFlow/Clements_2D/forcing/forcing_1985\")\n",
    "file = 'forcing1D_1985.txt'\n",
    "forcing_df = pd.read_csv(file, sep=' ', header=None, engine='python')\n",
    "\n",
    "# add PF-CLM variable names and units \n",
    "forcing_df.columns = [\"DSWR [W/m2]\", \"DLWR [W/m2]\", \"APCP [mm/s]\", \"Temp [K]\", \"UGRD [m/s]\",\"VGRD [m/s]\",\"Press [pa]\",\"SPFH [kg/kg]\"]\n",
    "# print(forcing_df.head())\n",
    "\n",
    "# add 1.5 C to the temperature\n",
    "forcing_df['Temp [K]'] = forcing_df['Temp [K]'] + 1.5\n",
    "\n",
    "# write to a file\n",
    "os.chdir('/home/lrgrant/ParFlow/Clements_2D/output/output_1985/TLE')\n",
    "forcing_df.to_csv('forcing1D_1985_TLE.txt',sep=' ',header=None, index=False, index_label=False)"
   ]
  },
  {
   "cell_type": "markdown",
   "id": "f3b8c48d-72f8-4903-9d06-fd9b5c468f6c",
   "metadata": {},
   "source": [
    "Run as above."
   ]
  },
  {
   "cell_type": "markdown",
   "id": "bf203c93-ea58-4d1c-959c-ea2a51bfce8d",
   "metadata": {
    "jp-MarkdownHeadingCollapsed": true
   },
   "source": [
    "## THE"
   ]
  },
  {
   "cell_type": "code",
   "execution_count": 195,
   "id": "d3481e62-9f1e-4ead-bc79-9ee42f40311b",
   "metadata": {},
   "outputs": [
    {
     "name": "stdout",
     "output_type": "stream",
     "text": [
      "291.2885770719345\n"
     ]
    }
   ],
   "source": [
    "#-----------------------------------------------------------------------------\n",
    "# Creating Forcing File\n",
    "#-----------------------------------------------------------------------------\n",
    "# load the original 1985 forcing file\n",
    "os.chdir(\"/home/lrgrant/ParFlow/Clements_2D/forcing/forcing_1985\")\n",
    "file = 'forcing1D_1985.txt'\n",
    "forcing_df = pd.read_csv(file, sep=' ', header=None, engine='python')\n",
    "# print(forcing_df.head())\n",
    "\n",
    "# add PF-CLM variable names and units \n",
    "forcing_df.columns = [\"DSWR [W/m2]\", \"DLWR [W/m2]\", \"APCP [mm/s]\", \"Temp [K]\", \"UGRD [m/s]\",\"VGRD [m/s]\",\"Press [pa]\",\"SPFH [kg/kg]\"]\n",
    "\n",
    "# we add 4 C to the temperature\n",
    "forcing_df['Temp [K]'] = forcing_df['Temp [K]'] + 4\n",
    "\n",
    "# write to a file\n",
    "os.chdir('/home/lrgrant/ParFlow/Clements_2D/output/output_1985/THE')\n",
    "forcing_df.to_csv('forcing1D_1985_THE.txt',sep=' ',header=None, index=False, index_label=False)"
   ]
  },
  {
   "cell_type": "markdown",
   "id": "b0dc342a-3ae7-4e55-aa04-5aa7da732046",
   "metadata": {},
   "source": [
    "Run as above."
   ]
  },
  {
   "cell_type": "markdown",
   "id": "13cf18ab-0fd9-4847-9c71-399da0ba321d",
   "metadata": {
    "jp-MarkdownHeadingCollapsed": true
   },
   "source": [
    "## MS"
   ]
  },
  {
   "cell_type": "code",
   "execution_count": 20,
   "id": "918c5bc6-af5f-4091-9c8c-54ce16201e3b",
   "metadata": {},
   "outputs": [],
   "source": [
    "#-----------------------------------------------------------------------------\n",
    "# Creating Forcing File\n",
    "#-----------------------------------------------------------------------------\n",
    "\n",
    "# load the forcing file for the MS year\n",
    "os.chdir(\"/home/lrgrant/ParFlow/Clements_2D/forcing/forcing_2002\")\n",
    "file = 'forcing1D_2002.txt'\n",
    "forcing_df = pd.read_csv(file, sep=' ', header=None, engine='python')\n",
    "# print(forcing_df.head())\n",
    "\n",
    "# add PF-CLM variable names and units \n",
    "forcing_df.columns = [\"DSWR [W/m2]\", \"DLWR [W/m2]\", \"APCP [mm/s]\", \"Temp [K]\", \"UGRD [m/s]\",\"VGRD [m/s]\",\"Press [pa]\",\"SPFH [kg/kg]\"]\n",
    "\n",
    "# we scale the precipitation so that it is the same cumulative as 1985-OG\n",
    "forcing_df['APCP [mm/s]'] = forcing_df['APCP [mm/s]'] * 881.5/1408.8\n",
    "\n",
    "# write to a file\n",
    "os.chdir('/home/lrgrant/ParFlow/Clements_2D/output/output_1985/MS')\n",
    "forcing_df.to_csv('forcing1D_1985_MS.txt',sep=' ',header=None, index=False, index_label=False)"
   ]
  },
  {
   "cell_type": "markdown",
   "id": "4169528c-caec-47fe-b81c-0b0f5c77966e",
   "metadata": {},
   "source": [
    "Run as above."
   ]
  },
  {
   "cell_type": "markdown",
   "id": "3dd255af-b244-4ac4-8708-bcb5b7bdab0b",
   "metadata": {
    "jp-MarkdownHeadingCollapsed": true
   },
   "source": [
    "## FS"
   ]
  },
  {
   "cell_type": "code",
   "execution_count": 26,
   "id": "9fc10048-456d-4371-8e60-ea3b494b2c68",
   "metadata": {},
   "outputs": [],
   "source": [
    "#-----------------------------------------------------------------------------\n",
    "# Creating Forcing File\n",
    "#-----------------------------------------------------------------------------\n",
    "\n",
    "# load the forcing file for FS year\n",
    "os.chdir(\"/home/lrgrant/ParFlow/Clements_2D/forcing/forcing_1994\")\n",
    "file = 'forcing1D_1994.txt'\n",
    "forcing_df = pd.read_csv(file, sep=' ', header=None, engine='python')\n",
    "# print(forcing_df.head())\n",
    "\n",
    "# add PF-CLM variable names and units \n",
    "forcing_df.columns = [\"DSWR [W/m2]\", \"DLWR [W/m2]\", \"APCP [mm/s]\", \"Temp [K]\", \"UGRD [m/s]\",\"VGRD [m/s]\",\"Press [pa]\",\"SPFH [kg/kg]\"]\n",
    "\n",
    "# we scale the precipitation so that it is the same cumulative as 1985-OG\n",
    "forcing_df['APCP [mm/s]'] = forcing_df['APCP [mm/s]'] * 881.5/758.2\n",
    "\n",
    "# write to a file\n",
    "os.chdir('/home/lrgrant/ParFlow/Clements_2D/output/output_1985/FS')\n",
    "forcing_df.to_csv('forcing1D_1985_FS.txt',sep=' ',header=None, index=False, index_label=False)"
   ]
  },
  {
   "cell_type": "markdown",
   "id": "ab5e0948-4907-402f-8efd-9cd6d466d6a6",
   "metadata": {},
   "source": [
    "Run as above."
   ]
  },
  {
   "cell_type": "markdown",
   "id": "5222803f-c481-4c20-8f8a-f2bdbb85792b",
   "metadata": {
    "jp-MarkdownHeadingCollapsed": true
   },
   "source": [
    "## HP"
   ]
  },
  {
   "cell_type": "code",
   "execution_count": 10,
   "id": "39f87352-f998-4824-ade2-5abd79b2a151",
   "metadata": {},
   "outputs": [],
   "source": [
    "#-----------------------------------------------------------------------------\n",
    "# Creating Forcing File\n",
    "#-----------------------------------------------------------------------------\n",
    "\n",
    "# load the forcing file for 1985\n",
    "os.chdir(\"/home/lrgrant/ParFlow/Clements_2D/forcing/forcing_1985\")\n",
    "file = 'forcing1D_1985.txt'\n",
    "forcing_df = pd.read_csv(file, sep=' ', header=None, engine='python')\n",
    "# print(forcing_df.head())\n",
    "\n",
    "# add PF-CLM variable names and units \n",
    "forcing_df.columns = [\"DSWR [W/m2]\", \"DLWR [W/m2]\", \"APCP [mm/s]\", \"Temp [K]\", \"UGRD [m/s]\",\"VGRD [m/s]\",\"Press [pa]\",\"SPFH [kg/kg]\"]\n",
    "\n",
    "# we scale the precipitation so that it is the same cumulative as the HP year\n",
    "forcing_df['APCP [mm/s]'] = forcing_df['APCP [mm/s]'] * 1337/881.5\n",
    "\n",
    "# # write to a file\n",
    "os.chdir('/home/lrgrant/ParFlow/Clements_2D/output/output_1985/HP')\n",
    "forcing_df.to_csv('forcing1D_1985_HP.txt',sep=' ',header=None, index=False, index_label=False)"
   ]
  },
  {
   "cell_type": "markdown",
   "id": "6c03b96e-3586-4b66-9c5c-2c1e651e1b95",
   "metadata": {},
   "source": [
    "Run as above."
   ]
  },
  {
   "cell_type": "markdown",
   "id": "ac283fc9-5c04-4ef1-9a82-3156b36edca5",
   "metadata": {
    "jp-MarkdownHeadingCollapsed": true
   },
   "source": [
    "## SLR1"
   ]
  },
  {
   "cell_type": "markdown",
   "id": "2f6bd47e-a8cd-4bb7-8c0f-205008764c9a",
   "metadata": {},
   "source": [
    "Run as above with OG forcing file. Set sea level condition as: `PFCLM_1985_SLR5.Patch.x_upper.BCPressure.alltime.Value = -2 + 1.08 # m` and run in folder `/home/lrgrant/ParFlow/Clements_2D/output/output_1985/SLR1`"
   ]
  },
  {
   "cell_type": "markdown",
   "id": "9cbbfe77-b17a-4e46-b183-dbe1364ab4c5",
   "metadata": {
    "jp-MarkdownHeadingCollapsed": true
   },
   "source": [
    "## SLR2"
   ]
  },
  {
   "cell_type": "markdown",
   "id": "0d57f99d-d870-4cd2-a0c1-e7815d46d5cf",
   "metadata": {},
   "source": [
    "SLR2 is run by copying and altering the SLR1 model."
   ]
  },
  {
   "cell_type": "code",
   "execution_count": 32,
   "id": "ba927872-109e-4586-9659-d6210c43f2d8",
   "metadata": {},
   "outputs": [
    {
     "data": {
      "text/plain": [
       "'/home/lrgrant/ParFlow/Clements_2D/output/fucked_upedness/PF_PressIC.pfb'"
      ]
     },
     "execution_count": 32,
     "metadata": {},
     "output_type": "execute_result"
    }
   ],
   "source": [
    "#-----------------------------------------------------------------------------\n",
    "# Set Base, Directory\n",
    "#-----------------------------------------------------------------------------\n",
    "\n",
    "base = '/home/lrgrant/ParFlow/Clements_2D/output/output_1985/SLR2'\n",
    "\n",
    "os.chdir(base + \"/../../../\") # puts us at clements_2d\n",
    "\n",
    "#-----------------------------------------------------------------------------\n",
    "# Copying Input Files into Run Directory\n",
    "#-----------------------------------------------------------------------------\n",
    "\n",
    "input_file_clmin = os.getcwd() + \"/forcing/forcing_1985/drv_clmin.dat\"\n",
    "input_file_vegp = os.getcwd() + \"/forcing/forcing_1985/drv_vegp.dat\"\n",
    "input_file_vegm = os.getcwd() + \"/output/land_cover/new_clm_files/cropland_veg_mosaic/drv_vegm.dat\"\n",
    "input_file_pressIC = os.getcwd() + \"/output/output_1985/SLR1/PF_PressIC.pfb\"\n",
    "# be sure to change to correct output folder\n",
    "output_clmin = os.getcwd() + \"/output/output_1985/SLR2/drv_clmin.dat\"\n",
    "output_vegp = os.getcwd() + \"/output/output_1985/SLR2/drv_vegp.dat\"\n",
    "output_vegm = os.getcwd() + \"/output/output_1985/SLR2/drv_vegm.dat\"\n",
    "output_pressIC = os.getcwd() + \"/output/output_1985/SLR2/PF_PressIC.pfb\"\n",
    "\n",
    "# CLM Inputs\n",
    "shutil.copyfile(input_file_clmin, output_clmin)\n",
    "shutil.copyfile(input_file_vegp, output_vegp)\n",
    "shutil.copyfile(input_file_vegm, output_vegm)\n",
    "shutil.copyfile(input_file_pressIC, output_pressIC)"
   ]
  },
  {
   "cell_type": "code",
   "execution_count": 35,
   "id": "4fc4cac9-9ff8-43e4-a82c-99df18bf1404",
   "metadata": {},
   "outputs": [
    {
     "name": "stdout",
     "output_type": "stream",
     "text": [
      "Warning: The following CLM variables could not be set:\n",
      "  - nt\n",
      "  - sw_ini\n",
      "  - hkdepth\n",
      "  - wtfact\n",
      "  - trsmx0\n",
      "  - smpmax\n",
      "  - pondmx\n",
      "/home/lrgrant/ParFlow/Clements_2D/output/fucked_upedness\n",
      "Warning: /home/lrgrant/ParFlow/Clements_2D/output/fucked_upedness/drv_clmin.dat will not be overwritten unless OverwriteDrvClmin is set to True. Changes to the file may not be reflected in the calculation\n",
      "Warning: /home/lrgrant/ParFlow/Clements_2D/output/fucked_upedness/drv_vegm.dat will not be overwritten unless OverwriteDrvVegm is set to True. Changes to the file may not be reflected in the calculation\n",
      "Warning: /home/lrgrant/ParFlow/Clements_2D/output/fucked_upedness/drv_vegp.dat will not be overwritten unless OverwriteDrvVegp is set to True. Changes to the file may not be reflected in the calculation\n",
      "\n",
      "# ==============================================================================\n",
      "# ParFlow directory\n",
      "#  - /home/SHARED/software/parflow/3.10.0\n",
      "# ParFlow version\n",
      "#  - 3.10.0\n",
      "# Working directory\n",
      "#  - /home/lrgrant/ParFlow/Clements_2D/output/fucked_upedness\n",
      "# ParFlow database\n",
      "#  - PFCLM_2001_SLR1.pfidb\n",
      "# ==============================================================================\n",
      "\n"
     ]
    },
    {
     "name": "stderr",
     "output_type": "stream",
     "text": [
      "/home/SHARED/virtual-environments/parflow-shared/conda/lib/python3.11/site-packages/parflow/tools/io.py:1300: FutureWarning: The 'delim_whitespace' keyword in pd.read_csv is deprecated and will be removed in a future version. Use ``sep='\\s+'`` instead\n",
      "  df = pd.read_csv(file_name, delim_whitespace=True, skiprows=2, header=None)\n"
     ]
    },
    {
     "name": "stdout",
     "output_type": "stream",
     "text": [
      "\n",
      "# ==============================================================================\n",
      "# ParFlow ran successfully 💦 💦 💦 \n",
      "# ==============================================================================\n",
      "\n"
     ]
    }
   ],
   "source": [
    "#-----------------------------------------------------------------------------\n",
    "# Loading SLR1 Model\n",
    "#-----------------------------------------------------------------------------\n",
    "\n",
    "os.chdir(base + \"/../output_2001/SLR1\")\n",
    "PFCLM_1985_SLR1 = Run.from_definition(\"PFCLM_2001_SLR1.pfidb\")\n",
    "PFCLM_1985_SLR2 = deepcopy(PFCLM_1985_SLR1)\n",
    "\n",
    "#-----------------------------------------------------------------------------\n",
    "# Pressure Initial Conditions\n",
    "#-----------------------------------------------------------------------------\n",
    "\n",
    "# reverting Pressure IC to Original Types/Values\n",
    "PFCLM_1985_SLR2.ICPressure.Type                 = 'HydroStaticPatch'\n",
    "PFCLM_1985_SLR2.ICPressure.GeomNames            = 'domain'\n",
    "PFCLM_1985_SLR2.Geom.domain.ICPressure.Value    = -2.00  # pressure at 8760 step of previous run, same WY\n",
    "PFCLM_1985_SLR2.Geom.domain.ICPressure.RefGeom  = 'domain'\n",
    "PFCLM_1985_SLR2.Geom.domain.ICPressure.RefPatch = 'z_upper'\n",
    "\n",
    "#-----------------------------------------------------------------------------\n",
    "# Forcing Sea Level\n",
    "#-----------------------------------------------------------------------------\n",
    "\n",
    "# changing SLR condition to SLR2\n",
    "PFCLM_1985_SLR2.Patch.x_upper.BCPressure.alltime.Value = -2.0 + 0.87 # m\n",
    "\n",
    "#-----------------------------------------------------------------------------\n",
    "# Run\n",
    "#-----------------------------------------------------------------------------\n",
    "\n",
    "# # running model with new SLR condition\n",
    "PFCLM_1985_SLR2.run(working_directory=base)"
   ]
  },
  {
   "cell_type": "code",
   "execution_count": 48,
   "id": "4df33ed2-395b-42e2-bc35-c94ed7facdb8",
   "metadata": {},
   "outputs": [],
   "source": [
    "#-----------------------------------------------------------------------------\n",
    "# Rename Run Files\n",
    "#-----------------------------------------------------------------------------\n",
    "\n",
    "''' All files saved with old prefix: PFCLM_1985_SLR1 '''\n",
    "\n",
    "# Change to the base directory\n",
    "os.chdir(base)\n",
    "\n",
    "# Specify the old and new file name prefixes\n",
    "old_prefix = \"PFCLM_1985_SLR1\"\n",
    "new_prefix = \"PFCLM_1985_SLR2\"\n",
    "\n",
    "# # Iterate over matching files with different extensions\n",
    "for extension in [\"out.*.pfb\", \"out.*.pfb.dist\", \"out.txt\", \"out.log\", \"out.kinsol.log\", \"out.*.csv\", \"out.pfmetadata\", \"out.pftcl\"]:\n",
    "    # Find matching files\n",
    "    old_files = glob(f\"{old_prefix}.{extension}\")\n",
    "    \n",
    "# Rename each file\n",
    "for old_file in old_files:\n",
    "    # Construct new filename\n",
    "    new_file = old_file.replace(old_prefix, new_prefix)\n",
    "    \n",
    "    # Rename the file\n",
    "    os.rename(old_file, new_file)\n",
    "\n",
    "# Specify old and new pfidb names\n",
    "old_filename = \"PFCLM_1985_SLR1.pfidb\"\n",
    "new_filename = \"PFCLM_1985_SLR2.pfidb\"\n",
    "\n",
    "# Rename the pfidb file\n",
    "os.rename(old_filename, new_filename)"
   ]
  },
  {
   "cell_type": "code",
   "execution_count": 49,
   "id": "bd0588fb-563c-41cd-93ff-3ec43ac42656",
   "metadata": {},
   "outputs": [
    {
     "name": "stdout",
     "output_type": "stream",
     "text": [
      "Warning: /home/lrgrant/ParFlow/Clements_2D/output/output_1985/SLR2/drv_clmin.dat will not be overwritten unless OverwriteDrvClmin is set to True. Changes to the file may not be reflected in the calculation\n",
      "Warning: /home/lrgrant/ParFlow/Clements_2D/output/output_1985/SLR2/drv_vegm.dat will not be overwritten unless OverwriteDrvVegm is set to True. Changes to the file may not be reflected in the calculation\n",
      "Warning: /home/lrgrant/ParFlow/Clements_2D/output/output_1985/SLR2/drv_vegp.dat will not be overwritten unless OverwriteDrvVegp is set to True. Changes to the file may not be reflected in the calculation\n",
      "\n",
      "# ==============================================================================\n",
      "# ParFlow directory\n",
      "#  - /home/SHARED/software/parflow/3.10.0\n",
      "# ParFlow version\n",
      "#  - 3.10.0\n",
      "# Working directory\n",
      "#  - /home/lrgrant/ParFlow/Clements_2D/output/output_1985/SLR2\n",
      "# ParFlow database\n",
      "#  - PFCLM_1985_SLR1.pfidb\n",
      "# ==============================================================================\n",
      "\n",
      "\n",
      "# ==============================================================================\n",
      "# ParFlow ran successfully 💦 💦 💦 \n",
      "# ==============================================================================\n",
      "\n"
     ]
    }
   ],
   "source": [
    "#-----------------------------------------------------------------------------\n",
    "# Re-running Equilibrated Model\n",
    "#-----------------------------------------------------------------------------\n",
    "os.chdir(base)\n",
    "run = Run.from_definition('PFCLM_1985_SLR2.pfidb')  # load the run from the file, this is the same as the run above\n",
    "data = run.data_accessor # get the data accessor, this makes it easier to access the data from the run\n",
    "nt = len(data.times)  # get the number of time steps\n",
    "nx = data.shape[2]    # get the number of cells in the x direction\n",
    "ny = data.shape[1]    # get the number of cells in the y direction\n",
    "nz = data.shape[0]    # get the number of cells in the z direction\n",
    "dx = data.dx          # get the cell size in the x direction\n",
    "dy = data.dy          # get the cell size in the y direction\n",
    "dz = data.dz          # get the cell size in the z direction, this is a 1D array of size nz\n",
    "\n",
    "# loading grid\n",
    "nrows = nz\n",
    "ncols = nx\n",
    "# print(nrows, ncols)\n",
    "\n",
    "# load pressure field for last time step\n",
    "pressure_end = read_pfb(get_absolute_path('PFCLM_1985_SLR2.out.press.08760.pfb')).reshape(nrows, ncols)\n",
    "\n",
    "# rearrange pressure field into a 3D array\n",
    "pressure_end_new = np.ones((nrows, ny, ncols))\n",
    "for i in range(nrows):\n",
    "    pressure_end_new[[i]] = pressure_end[i,:]\n",
    "\n",
    "# re-import write_pfb function so that the function runs and doesn't try to call boolean assigned before:\n",
    "from parflow.tools.io import write_pfb\n",
    "\n",
    "# write the new initial conditions into a file:\n",
    "write_pfb(get_absolute_path('PF_PressIC.pfb'), pressure_end_new)\n",
    "\n",
    "# we will change the \"initial condition pressure\" value to be the end value from the previous run\n",
    "PFCLM_1985_SLR2.ICPressure.Type                 = 'PFBFile'\n",
    "PFCLM_1985_SLR2.Geom.domain.ICPressure.FileName = 'PF_PressIC.pfb'\n",
    "\n",
    "# we will now run the model again\n",
    "PFCLM_1985_SLR2.run(working_directory=base)"
   ]
  },
  {
   "cell_type": "code",
   "execution_count": 50,
   "id": "44b42b82-0c51-4b0a-a70c-4cdb97a745b7",
   "metadata": {},
   "outputs": [],
   "source": [
    "#-----------------------------------------------------------------------------\n",
    "# Rename Run Files\n",
    "#-----------------------------------------------------------------------------\n",
    "\n",
    "# Change to the base directory\n",
    "os.chdir(base)\n",
    "\n",
    "# Specify the old and new file name prefixes\n",
    "old_prefix = \"PFCLM_1985_SLR1\"\n",
    "new_prefix = \"PFCLM_1985_SLR2\"\n",
    "\n",
    "# # Iterate over matching files with different extensions\n",
    "# \"out.velx.*.pfb\", \"out.velx.*.pfb.dist\",\"out.velz.*.pfb\", \"out.velz.*.pfb.dist\", \"out.satur.*.pfb\", \"out.satur.*.pfb.dist\",\"out.vely.*.pfb\", \"out.vely.*.pfb.dist\", \"out.evaptrans.*.pfb\", \"out.evaptrans.*.pfb.dist\", \"out.press.*.pfb\", \"out.press.*.pfb.dist\", \n",
    "for extension in [\"out.*.pfb\", \"out.*.pfb.dist\", \"out.txt\", \"out.log\", \"out.kinsol.log\", \"out.*.csv\", \"out.pfmetadata\", \"out.pftcl\"]:\n",
    "    # Find matching files\n",
    "    old_files = glob(f\"{old_prefix}.{extension}\")\n",
    "    \n",
    "# Rename each file\n",
    "for old_file in old_files:\n",
    "    # Construct new filename\n",
    "    new_file = old_file.replace(old_prefix, new_prefix)\n",
    "    \n",
    "    # Rename the file\n",
    "    os.rename(old_file, new_file)\n",
    "\n",
    "old_filename = \"PFCLM_1985_SLR1.pfidb\"\n",
    "new_filename = \"PFCLM_1985_SLR2.pfidb\"\n",
    "\n",
    "# Rename the file\n",
    "os.rename(old_filename, new_filename)"
   ]
  },
  {
   "cell_type": "markdown",
   "id": "8e15eefe-8466-445e-a1fc-7f97664fd739",
   "metadata": {
    "jp-MarkdownHeadingCollapsed": true
   },
   "source": [
    "## SLR5"
   ]
  },
  {
   "cell_type": "markdown",
   "id": "cc5558c3-fb9b-47fa-b6ac-17d8e5e1023e",
   "metadata": {},
   "source": [
    "Runs as SLR2, with the sea level condition: `PFCLM_1985_SLR5.Patch.x_upper.BCPressure.alltime.Value = -2 + 1.08 # m`, and placed into the folder `/home/lrgrant/ParFlow/Clements_2D/output/output_1985/SLR5`."
   ]
  },
  {
   "cell_type": "markdown",
   "id": "fbb5067d-0e5f-4d2d-86df-890fa13b81c0",
   "metadata": {},
   "source": [
    "# Preliminary Interpretation for Single Parameters"
   ]
  },
  {
   "cell_type": "markdown",
   "id": "dfc8608f-a619-40ab-a158-0a3e0d4e9249",
   "metadata": {
    "jp-MarkdownHeadingCollapsed": true
   },
   "source": [
    "### Comparing Time Series"
   ]
  },
  {
   "cell_type": "code",
   "execution_count": 3,
   "id": "5d136f37-6a92-4425-b7f5-dff913996d9a",
   "metadata": {},
   "outputs": [
    {
     "name": "stdout",
     "output_type": "stream",
     "text": [
      "/home/lrgrant/ParFlow/Clements_2D/output/output_1985/OG\n",
      "/home/lrgrant/ParFlow/Clements_2D/output/output_1985/HP\n",
      "/home/lrgrant/ParFlow/Clements_2D/output/output_1985/MS\n",
      "/home/lrgrant/ParFlow/Clements_2D/output/output_1985/FS\n",
      "/home/lrgrant/ParFlow/Clements_2D/output/output_1985/TLE\n",
      "/home/lrgrant/ParFlow/Clements_2D/output/output_1985/THE\n",
      "/home/lrgrant/ParFlow/Clements_2D/output/output_1985/SLR1\n",
      "/home/lrgrant/ParFlow/Clements_2D/output/output_1985/SLR2\n",
      "/home/lrgrant/ParFlow/Clements_2D/output/output_1985/SLR5\n"
     ]
    }
   ],
   "source": [
    "extension = [\"OG\", \"HP\", \"MS\", \"FS\", \"TLE\", \"THE\", \"SLR1\", \"SLR2\", \"SLR5\"]\n",
    "\n",
    "plot_flux = {}\n",
    "\n",
    "for ext in extension:\n",
    "    os.chdir(base + ext)\n",
    "    print(os.getcwd())\n",
    "    \n",
    "    # get a list of all the velocity files in order\n",
    "    Vx_files = sorted(glob(f\"PFCLM_1985_{ext}.out.velx.*.pfb\"))\n",
    "    \n",
    "    # read in all pressure files into a 3D NParray\n",
    "    Vx_arrays = pf.read_pfb_sequence(Vx_files)\n",
    "    # #average over the grab velocity at coastal boundary\n",
    "    Vx = Vx_arrays[:,:,0,-1]\n",
    "\n",
    "    flux = (Vx*dz)   # per unit width\n",
    "    # print(flux.shape)\n",
    "\n",
    "    plot_flux[f'{ext}'] = np.sum(flux, axis=1)\n",
    "    # print(plot_flux.shape)"
   ]
  },
  {
   "cell_type": "code",
   "execution_count": 80,
   "id": "77bd3fa1-91e7-4a0f-b21e-d28fcbc061fe",
   "metadata": {},
   "outputs": [
    {
     "name": "stdout",
     "output_type": "stream",
     "text": [
      "OG 0.024206422269618538\n",
      "HP 0.03525819095504376\n",
      "MS 0.03189494584078955\n",
      "FS 0.022926858378494067\n",
      "TLE 0.02335147942938244\n",
      "THE 0.022521848606102304\n",
      "SLR1 0.004172094651407481\n",
      "SLR2 -0.0022589884398245747\n",
      "SLR5 -0.01095508907662841\n"
     ]
    },
    {
     "data": {
      "image/png": "[encoded data removed]",
      "text/plain": [
       "<Figure size 1400x1000 with 9 Axes>"
      ]
     },
     "metadata": {},
     "output_type": "display_data"
    }
   ],
   "source": [
    "fig, ax = plt.subplots(5,2, figsize=(14, 10), sharey = True, sharex = True)\n",
    "plt.subplots_adjust(left=None, bottom=None, right=None, top=None, wspace=0.05, hspace=0.3)\n",
    "\n",
    "ax[0,1].plot(plot_flux['OG'])\n",
    "ax[0,1].set_title(\"Original Forcing\", fontsize=14)\n",
    "# ax[0,0].set_ylabel(r\"Flux (m$^2$/hr)\",fontsize=12)\n",
    "ax[0,1].hlines(0, 0,8760, 'r')\n",
    "\n",
    "ax[1,0].plot(plot_flux['HP'])\n",
    "ax[1,0].set_title(\"High Precipitation\",fontsize=14)\n",
    "# ax[1,0].set_ylabel(r\"Flux (m$^2$/hr)\",fontsize=12)\n",
    "ax[1,0].hlines(0, 0,8760, 'r')\n",
    "\n",
    "ax[1,1].plot(plot_flux['MS'])\n",
    "ax[1,1].set_title(\"Many Storms\",fontsize=14)\n",
    "ax[1,1].hlines(0, 0,8760, 'r')\n",
    "\n",
    "ax[2,0].plot(plot_flux['FS'])\n",
    "ax[2,0].set_title(\"Few Storms\",fontsize=14)\n",
    "# ax[2,0].set_ylabel(r\"Flux (m$^2$/hr)\",fontsize=12)\n",
    "ax[2,0].hlines(0, 0,8760, 'r')\n",
    "\n",
    "ax[2,1].plot(plot_flux['TLE'], label = \"LE Temperature Projection\")\n",
    "ax[2,1].set_title(\"LE Temperature Projection\",fontsize=14)\n",
    "ax[2,1].hlines(0, 0,8760, 'r')\n",
    "\n",
    "ax[3,0].plot(plot_flux['THE'], label = \"HE Temperature Projection\")\n",
    "ax[3,0].set_title(\"HE Temperature Projection\",fontsize=14)\n",
    "# ax[3,0].set_ylabel(r\"Flux (m$^2$/hr)\",fontsize=12)\n",
    "ax[3,0].hlines(0, 0,8760, 'r')\n",
    "\n",
    "ax[3,1].plot(plot_flux['SLR1'], label = \"SLR SSP119\")\n",
    "ax[3,1].set_title(\"SLR SSP119\",fontsize=14)\n",
    "ax[3,1].hlines(0, 0,8760, 'r')\n",
    "\n",
    "ax[4,0].plot(plot_flux['SLR2'], label = \"SLR SSP245\")\n",
    "ax[4,0].set_title(\"SLR SSP245\",fontsize=14)\n",
    "# ax[4,0].set_ylabel(r\"Flux (m$^2$/hr)\",fontsize=12)\n",
    "ax[4,0].hlines(0, 0,8760, 'r')\n",
    "\n",
    "ax[4,1].plot(plot_flux['SLR5'], label = \"SLR SSP585\")\n",
    "ax[4,1].set_title(\"SLR SSP585\",fontsize=14)\n",
    "ax[4,1].hlines(0, 0,8760, 'r')\n",
    "\n",
    "ax[4,0].set_xlabel(\"Hour of Year\", fontsize=16, x=1.01, labelpad=10)\n",
    "ax[3,0].set_ylabel(r\"Flux (m$^2$/hr)\", fontsize=16, y = 1.5)\n",
    "\n",
    "for i in range(2):\n",
    "    for j in range(5):\n",
    "        for spine in ax[j,i].spines.values():\n",
    "            spine.set_color('dimgrey')\n",
    "        ax[j,i].tick_params(color='dimgrey', labelcolor='dimgrey')\n",
    "\n",
    "props = dict(boxstyle='round', facecolor='dimgrey', alpha=0.15)  # bbox features\n",
    "txt = ax[0,1].text(-0.55, 0.7, \"All Single Parameter Runs\", transform=ax[0,1].transAxes, fontsize=18, horizontalalignment='center', verticalalignment='top', bbox=props)\n",
    "\n",
    "ax[0,0].remove() \n",
    "    \n",
    "# plt.savefig('/home/lrgrant/ParFlow/Clements_2D/output/figures/allparamruns.pdf')"
   ]
  },
  {
   "cell_type": "markdown",
   "id": "a97b8572-71f9-478a-aa7f-b4bb7d266ef3",
   "metadata": {
    "jp-MarkdownHeadingCollapsed": true
   },
   "source": [
    "### Examining Storms"
   ]
  },
  {
   "cell_type": "code",
   "execution_count": 4,
   "id": "2fab175a-ab52-4dfa-b7ad-184c08d09baa",
   "metadata": {},
   "outputs": [],
   "source": [
    "precipitation = {}\n",
    "\n",
    "os.chdir('/home/lrgrant/ParFlow/Clements_2D/forcing/forcing_1985/')\n",
    "df = pd.read_csv(\"forcing1D_1985.txt\", sep = ' ', header=None)\n",
    "df.columns = [\"DSWR [W/m2]\", \"DLWR [W/m2]\", \"APCP [mm/s]\", \"Temp [K]\", \"UGRD [m/s]\",\"VGRD [m/s]\",\"Press [pa]\",\"SPFH [kg/kg]\"]\n",
    "precipitation['OG'] = df[\"APCP [mm/s]\"] * 3600 # mm/hr\n",
    "\n",
    "os.chdir('/home/lrgrant/ParFlow/Clements_2D/output/output_1985/MS')\n",
    "df = pd.read_csv(\"forcing1D_1985_MS.txt\", sep = ' ', header=None)\n",
    "df.columns = [\"DSWR [W/m2]\", \"DLWR [W/m2]\", \"APCP [mm/s]\", \"Temp [K]\", \"UGRD [m/s]\",\"VGRD [m/s]\",\"Press [pa]\",\"SPFH [kg/kg]\"]\n",
    "precipitation['MS'] = df[\"APCP [mm/s]\"] * 3600 # mm/hr\n",
    "\n",
    "os.chdir('/home/lrgrant/ParFlow/Clements_2D/output/output_1985/FS')\n",
    "df = pd.read_csv(\"forcing1D_1985_FS.txt\", sep = ' ', header=None)\n",
    "df.columns = [\"DSWR [W/m2]\", \"DLWR [W/m2]\", \"APCP [mm/s]\", \"Temp [K]\", \"UGRD [m/s]\",\"VGRD [m/s]\",\"Press [pa]\",\"SPFH [kg/kg]\"]\n",
    "precipitation['FS'] = df[\"APCP [mm/s]\"] * 3600 # mm/hr\n"
   ]
  },
  {
   "cell_type": "code",
   "execution_count": 7,
   "id": "c6e8c847-c27b-45b6-bfb5-6710fbe2b86e",
   "metadata": {},
   "outputs": [
    {
     "name": "stdout",
     "output_type": "stream",
     "text": [
      "OG 14\n",
      "MS 28\n",
      "FS 13\n"
     ]
    },
    {
     "data": {
      "text/plain": [
       "Text(0, 0.5, 'Cumulative Precipitation [mm]')"
      ]
     },
     "execution_count": 7,
     "metadata": {},
     "output_type": "execute_result"
    },
    {
     "data": {
      "image/png": "[encoded data removed]",
      "text/plain": [
       "<Figure size 640x480 with 1 Axes>"
      ]
     },
     "metadata": {},
     "output_type": "display_data"
    }
   ],
   "source": [
    "# want: total precip for a cluster-storm event\n",
    "# set up dictionaries for yearly entries:\n",
    "\n",
    "storms_all = {} # tracks all storm events (hourly)\n",
    "storm_sti = {} # tracks all start indicies of storm clusters\n",
    "storm_len = {} # contains number of storm hours in a clustered event (min = 1)\n",
    "storm_rainfall = {} # contains rainfall data for each cluster-event\n",
    "\n",
    "threshold = 4 # mm\n",
    "\n",
    "for key in precipitation.keys():\n",
    "\n",
    "    storms_all[key] = np.where(precipitation[key] > threshold)[0]\n",
    "    storms = np.where(precipitation[key] > threshold)[0]\n",
    "    \n",
    "    storm_starts = []\n",
    "    storm_lengths = []\n",
    "    \n",
    "    current_storm_start = storms[0]\n",
    "    current_storm_length = 1\n",
    "    \n",
    "    for i in range(1, len(storms)):\n",
    "        # check if the i is part of the current storm cluster\n",
    "        if storms[i] == storms[i-1] + 1:\n",
    "            current_storm_length += 1\n",
    "        else:\n",
    "            # if not part of the current storm cluster, add info to storm starts/lengths lists\n",
    "            storm_starts.append(current_storm_start)\n",
    "            storm_lengths.append(current_storm_length)\n",
    "            # re-initialize storm starts\n",
    "            current_storm_start = storms[i]\n",
    "            current_storm_length = 1\n",
    "            \n",
    "    storm_sti[key] = storm_starts\n",
    "    storm_len[key] = storm_lengths\n",
    "\n",
    "    total_precipitation_per_storm = []\n",
    "    \n",
    "    # iterate through clusters\n",
    "    for start, length in zip(storm_starts, storm_lengths):\n",
    "        # calculate the end index of the cluster\n",
    "        end = start + length\n",
    "        # extract the precipitation data for the current storm\n",
    "        precip = precipitation[key]\n",
    "        storm_precipitation = precip[start:end]\n",
    "        # sum the precipitation data for the current storm\n",
    "        total_storm_precipitation = np.sum(storm_precipitation)\n",
    "        # Append the total precipitation to the result array\n",
    "        total_precipitation_per_storm.append(total_storm_precipitation)\n",
    "\n",
    "    storm_rainfall[key] = np.array(total_precipitation_per_storm)\n",
    "\n",
    "for key in precipitation.keys():\n",
    "    print(key, len(storm_rainfall[key]))\n",
    "\n",
    "for key in precipitation.keys():\n",
    "    plt.scatter(len(storm_rainfall[key]), np.sum(precipitation[key]), label=key)\n",
    "    \n",
    "plt.legend()\n",
    "plt.xlabel(\"Number of Storms\")\n",
    "plt.ylabel(\"Cumulative Precipitation [mm]\")"
   ]
  },
  {
   "cell_type": "markdown",
   "id": "2f68a1bc-789f-4130-bdbe-f18e858edf61",
   "metadata": {
    "jp-MarkdownHeadingCollapsed": true
   },
   "source": [
    "### Examining Inflow Data"
   ]
  },
  {
   "cell_type": "code",
   "execution_count": 63,
   "id": "8c0f3ca0-41f5-4d38-9106-5b4dd1d8aaa8",
   "metadata": {},
   "outputs": [
    {
     "data": {
      "text/plain": [
       "{'OG': 0,\n",
       " 'HP': 0,\n",
       " 'MS': 0,\n",
       " 'FS': 0,\n",
       " 'TLE': 0,\n",
       " 'THE': 0,\n",
       " 'SLR1': 0,\n",
       " 'SLR2': 123,\n",
       " 'SLR5': 1291}"
      ]
     },
     "execution_count": 63,
     "metadata": {},
     "output_type": "execute_result"
    }
   ],
   "source": [
    "mean_flux = {}\n",
    "ct_sub_zero = {}\n",
    "min_flux = {}\n",
    "extension = [\"OG\", \"HP\", \"MS\", \"FS\", \"TLE\", \"THE\", \"SLR1\", \"SLR2\", \"SLR5\"]\n",
    "\n",
    "for ext in extension:\n",
    "    mean_flux[f\"{ext}\"] = np.mean(plot_flux[f\"{ext}\"])\n",
    "    ct_sub_zero[f\"{ext}\"] = np.count_nonzero(plot_flux[f\"{ext}\"] < 0)\n",
    "    min_flux[f\"{ext}\"] = np.min(plot_flux[f\"{ext}\"])\n",
    "\n",
    "# mean_flux\n",
    "ct_sub_zero\n",
    "# min_flux"
   ]
  },
  {
   "cell_type": "code",
   "execution_count": 64,
   "id": "18cb8ed3-2bc0-474e-9403-b0ae8c9c9548",
   "metadata": {},
   "outputs": [
    {
     "name": "stdout",
     "output_type": "stream",
     "text": [
      "\n",
      "SLR2\n",
      "\n",
      "start index = 6212\n",
      "1th inflow occurrence\n",
      "105 hours of inflow \n",
      "\n",
      "start index = 6472\n",
      "2th inflow occurrence\n",
      "18 hours of inflow \n",
      "\n",
      "\n",
      "SLR5\n",
      "\n",
      "start index = 1\n",
      "1th inflow occurrence\n",
      "53 hours of inflow \n",
      "\n",
      "start index = 5205\n",
      "2th inflow occurrence\n",
      "363 hours of inflow \n",
      "\n",
      "start index = 5807\n",
      "3th inflow occurrence\n",
      "9 hours of inflow \n",
      "\n",
      "start index = 5822\n",
      "4th inflow occurrence\n",
      "43 hours of inflow \n",
      "\n",
      "start index = 5896\n",
      "5th inflow occurrence\n",
      "616 hours of inflow \n",
      "\n",
      "start index = 6713\n",
      "6th inflow occurrence\n",
      "66 hours of inflow \n",
      "\n"
     ]
    }
   ],
   "source": [
    "extension_inland = [\"SLR2\", \"SLR5\"]\n",
    "\n",
    "slr2 = plot_flux[\"SLR2\"]\n",
    "i = 0\n",
    "num_inflow = 0\n",
    "\n",
    "print(\"\\nSLR2\\n\")\n",
    "\n",
    "while i < 7905:\n",
    "    if slr2[i] < 0:\n",
    "        j = i\n",
    "        print(f\"start index = {i}\")\n",
    "        ct = 0\n",
    "        num_inflow = num_inflow + 1\n",
    "        print(f\"{num_inflow}th inflow occurrence\")\n",
    "        while j <= 8760:\n",
    "            if slr2[j] < 0: \n",
    "                ct = ct + 1\n",
    "                j = j + 1\n",
    "            else: \n",
    "                i = j\n",
    "                print(f\"{ct} hours of inflow \\n\")\n",
    "                break\n",
    "    else: i = i + 1\n",
    "\n",
    "print(\"\\nSLR5\\n\")\n",
    "\n",
    "slr5 = plot_flux[\"SLR5\"]\n",
    "i = 0\n",
    "num_inflow = 0\n",
    "\n",
    "while i < 7905:\n",
    "    if slr5[i] < 0:\n",
    "        j = i\n",
    "        print(f\"start index = {i}\")\n",
    "        ct = 0\n",
    "        num_inflow = num_inflow + 1\n",
    "        print(f\"{num_inflow}th inflow occurrence\")\n",
    "        while j <= 8760:\n",
    "            if slr5[j] < 0: \n",
    "                ct = ct + 1\n",
    "                j = j + 1\n",
    "            else: \n",
    "                i = j\n",
    "                print(f\"{ct} hours of inflow \\n\")\n",
    "                break\n",
    "    else: i = i + 1"
   ]
  },
  {
   "cell_type": "markdown",
   "id": "b65eec6d-7341-4dfb-a840-e12a34153368",
   "metadata": {},
   "source": [
    "# The Fudge Folder"
   ]
  },
  {
   "cell_type": "markdown",
   "id": "322202ef-70e7-4cb6-bd6b-0db05d9f7173",
   "metadata": {},
   "source": [
    "Running the model with multiple parameter forcings at once (i.e. \"combo\" runs). Saving flux locally as a csv."
   ]
  },
  {
   "cell_type": "markdown",
   "id": "3589a3b9-7295-4ce8-ae16-c3926500df66",
   "metadata": {
    "jp-MarkdownHeadingCollapsed": true
   },
   "source": [
    "# Combo Forcing Files"
   ]
  },
  {
   "cell_type": "markdown",
   "id": "f91da58e-1675-4c1d-8afe-385001f0f6b5",
   "metadata": {
    "jp-MarkdownHeadingCollapsed": true
   },
   "source": [
    "### FS and TLE"
   ]
  },
  {
   "cell_type": "code",
   "execution_count": 67,
   "id": "1a4b8636-5a06-483f-bc45-a4bd9b65946c",
   "metadata": {},
   "outputs": [],
   "source": [
    "# load the forcing file for FS year\n",
    "os.chdir(\"/home/lrgrant/ParFlow/Clements_2D/forcing/forcing_1994\")\n",
    "file = 'forcing1D_1994.txt'\n",
    "forcing_df = pd.read_csv(file, sep=' ', header=None, engine='python')\n",
    "# print(forcing_df.head())\n",
    "\n",
    "# add PF-CLM variable names and units \n",
    "forcing_df.columns = [\"DSWR [W/m2]\", \"DLWR [W/m2]\", \"APCP [mm/s]\", \"Temp [K]\", \"UGRD [m/s]\",\"VGRD [m/s]\",\"Press [pa]\",\"SPFH [kg/kg]\"]\n",
    "\n",
    "# we scale the precipitation so that it is the same cumulative as 1985-OG\n",
    "forcing_df['APCP [mm/s]'] = forcing_df['APCP [mm/s]'] * 881.5/758.2\n",
    "\n",
    "# we add TLE temp projections\n",
    "forcing_df['Temp [K]'] = forcing_df['Temp [K]'] + 1.5\n",
    "\n",
    "base = '/home/lrgrant/ParFlow/Clements_2D/output/output_1985/'\n",
    "os.chdir(base + \"combo_txts/combo_forcing\")\n",
    "# write to a file\n",
    "forcing_df.to_csv('forcing1D_1985_FS_TLE.txt',sep=' ',header=None, index=False, index_label=False)"
   ]
  },
  {
   "cell_type": "markdown",
   "id": "74fdedd7-f04f-4da5-806a-6a75c156ed23",
   "metadata": {
    "jp-MarkdownHeadingCollapsed": true
   },
   "source": [
    "### FS and THE"
   ]
  },
  {
   "cell_type": "code",
   "execution_count": 68,
   "id": "2dc612a8-c68c-42dc-8292-cb9a7f50b20c",
   "metadata": {},
   "outputs": [],
   "source": [
    "# load the forcing file for FS year\n",
    "os.chdir(\"/home/lrgrant/ParFlow/Clements_2D/forcing/forcing_1994\")\n",
    "file = 'forcing1D_1994.txt'\n",
    "forcing_df = pd.read_csv(file, sep=' ', header=None, engine='python')\n",
    "# print(forcing_df.head())\n",
    "\n",
    "# add PF-CLM variable names and units \n",
    "forcing_df.columns = [\"DSWR [W/m2]\", \"DLWR [W/m2]\", \"APCP [mm/s]\", \"Temp [K]\", \"UGRD [m/s]\",\"VGRD [m/s]\",\"Press [pa]\",\"SPFH [kg/kg]\"]\n",
    "\n",
    "# we scale the precipitation so that it is the same cumulative as 1985-OG\n",
    "forcing_df['APCP [mm/s]'] = forcing_df['APCP [mm/s]'] * 881.5/758.2\n",
    "\n",
    "# we add TLE temp projections\n",
    "forcing_df['Temp [K]'] = forcing_df['Temp [K]'] + 4\n",
    "\n",
    "os.chdir(base + \"/combo_txts/combo_forcing\")\n",
    "# write to a file\n",
    "forcing_df.to_csv('forcing1D_1985_FS_THE.txt',sep=' ',header=None, index=False, index_label=False)"
   ]
  },
  {
   "cell_type": "markdown",
   "id": "cf7b2f46-0035-4b92-900c-f8e1f8e45ec5",
   "metadata": {
    "jp-MarkdownHeadingCollapsed": true
   },
   "source": [
    "### MS and THE"
   ]
  },
  {
   "cell_type": "code",
   "execution_count": 69,
   "id": "a2a7f5e5-252d-48eb-bb81-e363571205c1",
   "metadata": {},
   "outputs": [],
   "source": [
    "# load the forcing file for MS year\n",
    "os.chdir(\"/home/lrgrant/ParFlow/Clements_2D/forcing/forcing_2002\")\n",
    "file = 'forcing1D_2002.txt'\n",
    "forcing_df = pd.read_csv(file, sep=' ', header=None, engine='python')\n",
    "# print(forcing_df.head())\n",
    "\n",
    "# add PF-CLM variable names and units \n",
    "forcing_df.columns = [\"DSWR [W/m2]\", \"DLWR [W/m2]\", \"APCP [mm/s]\", \"Temp [K]\", \"UGRD [m/s]\",\"VGRD [m/s]\",\"Press [pa]\",\"SPFH [kg/kg]\"]\n",
    "\n",
    "# we scale the precipitation so that it is the same cumulative as 1985-OG\n",
    "forcing_df['APCP [mm/s]'] = forcing_df['APCP [mm/s]'] * 881.5/1408.8\n",
    "\n",
    "# we add TLE temp projections\n",
    "forcing_df['Temp [K]'] = forcing_df['Temp [K]'] + 4\n",
    "\n",
    "base = '/home/lrgrant/ParFlow/Clements_2D/output/output_1985/'\n",
    "os.chdir(base + \"/combo_txts/combo_forcing\")\n",
    "# write to a file\n",
    "forcing_df.to_csv('forcing1D_1985_MS_THE.txt',sep=' ',header=None, index=False, index_label=False)"
   ]
  },
  {
   "cell_type": "markdown",
   "id": "f6048a0c-49cf-47c3-a9d2-81e64b4d31e5",
   "metadata": {
    "jp-MarkdownHeadingCollapsed": true
   },
   "source": [
    "### MS and TLE"
   ]
  },
  {
   "cell_type": "code",
   "execution_count": 70,
   "id": "08b8a89f-1a73-4396-9fbc-651fb7d1c159",
   "metadata": {},
   "outputs": [],
   "source": [
    "# load the forcing file for MS year\n",
    "os.chdir(\"/home/lrgrant/ParFlow/Clements_2D/forcing/forcing_2002\")\n",
    "file = 'forcing1D_2002.txt'\n",
    "forcing_df = pd.read_csv(file, sep=' ', header=None, engine='python')\n",
    "# print(forcing_df.head())\n",
    "\n",
    "# add PF-CLM variable names and units \n",
    "forcing_df.columns = [\"DSWR [W/m2]\", \"DLWR [W/m2]\", \"APCP [mm/s]\", \"Temp [K]\", \"UGRD [m/s]\",\"VGRD [m/s]\",\"Press [pa]\",\"SPFH [kg/kg]\"]\n",
    "\n",
    "# we scale the precipitation so that it is the same cumulative as 1985-OG\n",
    "forcing_df['APCP [mm/s]'] = forcing_df['APCP [mm/s]'] * 881.5/1408.8\n",
    "\n",
    "# we add TLE temp projections\n",
    "forcing_df['Temp [K]'] = forcing_df['Temp [K]'] + 1.5\n",
    "\n",
    "base = '/home/lrgrant/ParFlow/Clements_2D/output/output_1985/'\n",
    "os.chdir(base + \"/combo_txts/combo_forcing\")\n",
    "# write to a file\n",
    "forcing_df.to_csv('forcing1D_1985_MS_TLE.txt',sep=' ',header=None, index=False, index_label=False)"
   ]
  },
  {
   "cell_type": "markdown",
   "id": "406c6b00-6333-475c-8a4e-07657865995d",
   "metadata": {
    "jp-MarkdownHeadingCollapsed": true
   },
   "source": [
    "### HP and THE"
   ]
  },
  {
   "cell_type": "code",
   "execution_count": 14,
   "id": "c479547f-db04-45e3-b037-9e069b6009eb",
   "metadata": {},
   "outputs": [],
   "source": [
    "# load the forcing file for OG year\n",
    "os.chdir(\"/home/lrgrant/ParFlow/Clements_2D/forcing/forcing_1985\")\n",
    "file = 'forcing1D_1985.txt'\n",
    "forcing_df = pd.read_csv(file, sep=' ', header=None, engine='python')\n",
    "# print(forcing_df.head())\n",
    "\n",
    "# add PF-CLM variable names and units \n",
    "forcing_df.columns = [\"DSWR [W/m2]\", \"DLWR [W/m2]\", \"APCP [mm/s]\", \"Temp [K]\", \"UGRD [m/s]\",\"VGRD [m/s]\",\"Press [pa]\",\"SPFH [kg/kg]\"]\n",
    "\n",
    "# we scale the precipitation so that it is the same cumulative as the HP year\n",
    "forcing_df['APCP [mm/s]'] = forcing_df['APCP [mm/s]'] * 1337/881.5\n",
    "\n",
    "# we add TLE temp projections\n",
    "forcing_df['Temp [K]'] = forcing_df['Temp [K]'] + 4\n",
    "\n",
    "base = '/home/lrgrant/ParFlow/Clements_2D/output/output_1985/'\n",
    "os.chdir(base + \"/combo_txts/combo_forcing\")\n",
    "# write to a file\n",
    "forcing_df.to_csv('forcing1D_1985_HP_THE.txt',sep=' ',header=None, index=False, index_label=False)"
   ]
  },
  {
   "cell_type": "markdown",
   "id": "6ce7c7b5-2143-4a49-a51d-732e1bd4e49f",
   "metadata": {
    "jp-MarkdownHeadingCollapsed": true
   },
   "source": [
    "### HP and TLE"
   ]
  },
  {
   "cell_type": "code",
   "execution_count": 15,
   "id": "5bcf2fe5-45f8-4930-93a5-7f96ef6696af",
   "metadata": {},
   "outputs": [],
   "source": [
    "# load the forcing file for OG year\n",
    "os.chdir(\"/home/lrgrant/ParFlow/Clements_2D/forcing/forcing_1985\")\n",
    "file = 'forcing1D_1985.txt'\n",
    "forcing_df = pd.read_csv(file, sep=' ', header=None, engine='python')\n",
    "# print(forcing_df.head())\n",
    "\n",
    "# add PF-CLM variable names and units \n",
    "forcing_df.columns = [\"DSWR [W/m2]\", \"DLWR [W/m2]\", \"APCP [mm/s]\", \"Temp [K]\", \"UGRD [m/s]\",\"VGRD [m/s]\",\"Press [pa]\",\"SPFH [kg/kg]\"]\n",
    "\n",
    "# we scale the precipitation so that it is the same cumulative as the HP year\n",
    "forcing_df['APCP [mm/s]'] = forcing_df['APCP [mm/s]'] * 1337/881.5\n",
    "\n",
    "# we add TLE temp projections\n",
    "forcing_df['Temp [K]'] = forcing_df['Temp [K]'] + 1.5\n",
    "\n",
    "base = '/home/lrgrant/ParFlow/Clements_2D/output/output_1985/'\n",
    "os.chdir(base + \"/combo_txts/combo_forcing\")\n",
    "# write to a file\n",
    "forcing_df.to_csv('forcing1D_1985_HP_TLE.txt',sep=' ',header=None, index=False, index_label=False)"
   ]
  },
  {
   "cell_type": "markdown",
   "id": "c77ba947-3162-4b34-a766-0fe419115dd0",
   "metadata": {
    "jp-MarkdownHeadingCollapsed": true
   },
   "source": [
    "# SLR1"
   ]
  },
  {
   "cell_type": "markdown",
   "id": "a361523d-6b8c-46ff-aeaa-a72a906b906c",
   "metadata": {
    "jp-MarkdownHeadingCollapsed": true
   },
   "source": [
    "## SLR1 and TLE "
   ]
  },
  {
   "cell_type": "markdown",
   "id": "9ac80437-031e-4220-ad8e-d871d014d0ba",
   "metadata": {},
   "source": [
    "SLR1 and TLE gets run as a deepcopy of SLR1:"
   ]
  },
  {
   "cell_type": "code",
   "execution_count": 73,
   "id": "577e4c37-d330-41fe-88d4-42c2ae91e8a7",
   "metadata": {},
   "outputs": [
    {
     "name": "stdout",
     "output_type": "stream",
     "text": [
      "/home/lrgrant/ParFlow/Clements_2D\n"
     ]
    },
    {
     "data": {
      "text/plain": [
       "'/home/lrgrant/ParFlow/Clements_2D/output/output_1985/fudge/PF_PressIC.pfb'"
      ]
     },
     "execution_count": 73,
     "metadata": {},
     "output_type": "execute_result"
    }
   ],
   "source": [
    "#-----------------------------------------------------------------------------\n",
    "# Setting Initial Parameters\n",
    "#-----------------------------------------------------------------------------\n",
    "\n",
    "base = \"/home/lrgrant/ParFlow/Clements_2D/output/output_1985/fudge\"\n",
    "os.chdir(base + \"/../../../\")\n",
    "print(os.getcwd())\n",
    "\n",
    "# Set our Run Name \n",
    "PFCLM_1985_f1 = Run(\"PFCLM_1985_f1\")\n",
    "\n",
    "stopt = 8760\n",
    "\n",
    "#-----------------------------------------------------------------------------\n",
    "# Copying Input Files into Run Directory\n",
    "#-----------------------------------------------------------------------------\n",
    "\n",
    "input_file_clmin = os.getcwd() + \"/forcing/forcing_1985/drv_clmin.dat\"\n",
    "input_file_vegp = os.getcwd() + \"/forcing/forcing_1985/drv_vegp.dat\"\n",
    "input_file_vegm = os.getcwd() + \"/output/land_cover/new_clm_files/cropland_veg_mosaic/drv_vegm.dat\"\n",
    "input_file_pressIC = os.getcwd() + \"/output/output_1985/SLR1/PF_PressIC.pfb\"\n",
    "# be sure to change to correct output folder\n",
    "output_clmin = os.getcwd() + \"/output/output_1985/fudge/drv_clmin.dat\"\n",
    "output_vegp = os.getcwd() + \"/output/output_1985/fudge/drv_vegp.dat\"\n",
    "output_vegm = os.getcwd() + \"/output/output_1985/fudge/drv_vegm.dat\"\n",
    "output_pressIC = os.getcwd() + \"/output/output_1985/fudge/PF_PressIC.pfb\"\n",
    "\n",
    "# CLM Inputs\n",
    "shutil.copyfile(input_file_clmin, output_clmin)\n",
    "shutil.copyfile(input_file_vegp, output_vegp)\n",
    "shutil.copyfile(input_file_vegm, output_vegm)\n",
    "shutil.copyfile(input_file_pressIC, output_pressIC)"
   ]
  },
  {
   "cell_type": "code",
   "execution_count": 74,
   "id": "38e08a4c-f633-4f17-b7fd-8dcba2b545c8",
   "metadata": {},
   "outputs": [
    {
     "name": "stdout",
     "output_type": "stream",
     "text": [
      "Warning: The following CLM variables could not be set:\n",
      "  - nt\n",
      "  - sw_ini\n",
      "  - hkdepth\n",
      "  - wtfact\n",
      "  - trsmx0\n",
      "  - smpmax\n",
      "  - pondmx\n",
      "/home/lrgrant/ParFlow/Clements_2D/output/output_1985/fudge\n",
      "Warning: /home/lrgrant/ParFlow/Clements_2D/output/output_1985/fudge/drv_clmin.dat will not be overwritten unless OverwriteDrvClmin is set to True. Changes to the file may not be reflected in the calculation\n",
      "Warning: /home/lrgrant/ParFlow/Clements_2D/output/output_1985/fudge/drv_vegm.dat will not be overwritten unless OverwriteDrvVegm is set to True. Changes to the file may not be reflected in the calculation\n",
      "Warning: /home/lrgrant/ParFlow/Clements_2D/output/output_1985/fudge/drv_vegp.dat will not be overwritten unless OverwriteDrvVegp is set to True. Changes to the file may not be reflected in the calculation\n",
      "\n",
      "# ==============================================================================\n",
      "# ParFlow directory\n",
      "#  - /home/SHARED/software/parflow/3.10.0\n",
      "# ParFlow version\n",
      "#  - 3.10.0\n",
      "# Working directory\n",
      "#  - /home/lrgrant/ParFlow/Clements_2D/output/output_1985/fudge\n",
      "# ParFlow database\n",
      "#  - PFCLM_1985_SLR1.pfidb\n",
      "# ==============================================================================\n",
      "\n"
     ]
    },
    {
     "name": "stderr",
     "output_type": "stream",
     "text": [
      "/home/SHARED/virtual-environments/parflow-shared/conda/lib/python3.11/site-packages/parflow/tools/io.py:1300: FutureWarning: The 'delim_whitespace' keyword in pd.read_csv is deprecated and will be removed in a future version. Use ``sep='\\s+'`` instead\n",
      "  df = pd.read_csv(file_name, delim_whitespace=True, skiprows=2, header=None)\n"
     ]
    },
    {
     "name": "stdout",
     "output_type": "stream",
     "text": [
      "\n",
      "# ==============================================================================\n",
      "# ParFlow ran successfully 💦 💦 💦 \n",
      "# ==============================================================================\n",
      "\n"
     ]
    }
   ],
   "source": [
    "#-----------------------------------------------------------------------------\n",
    "# Copying SLR1 Run\n",
    "#-----------------------------------------------------------------------------\n",
    "\n",
    "os.chdir(base + \"/../SLR1\")\n",
    "PFCLM_1985_SLR1 = Run.from_definition('PFCLM_1985_SLR1.pfidb')\n",
    "\n",
    "#-----------------------------------------------------------------------------\n",
    "# Renaming run\n",
    "#-----------------------------------------------------------------------------\n",
    "\n",
    "os.chdir(base)\n",
    "PFCLM_1985_f1 = deepcopy(PFCLM_1985_SLR1)\n",
    "\n",
    "#-----------------------------------------------------------------------------\n",
    "# Pressure Initial Conditions\n",
    "#-----------------------------------------------------------------------------\n",
    "\n",
    "# reverting Pressure IC to Original Types/Values\n",
    "PFCLM_1985_f1.ICPressure.Type                 = 'HydroStaticPatch'\n",
    "PFCLM_1985_f1.ICPressure.GeomNames            = 'domain'\n",
    "PFCLM_1985_f1.Geom.domain.ICPressure.Value    = -2.00  # pressure at 8760 step of previous run, same WY\n",
    "PFCLM_1985_f1.Geom.domain.ICPressure.RefGeom  = 'domain'\n",
    "PFCLM_1985_f1.Geom.domain.ICPressure.RefPatch = 'z_upper'\n",
    "\n",
    "PFCLM_1985_f1.Solver.CLM.MetFileName = 'forcing1D_1985_TLE.txt'\n",
    "PFCLM_1985_f1.Solver.CLM.MetFilePath  = os.getcwd() + '/../../../forcing/forcing_1985'\n",
    "\n",
    "# # run model with new SLR condition\n",
    "print(base)\n",
    "PFCLM_1985_f1.run(working_directory=base)"
   ]
  },
  {
   "cell_type": "code",
   "execution_count": 75,
   "id": "82ec8e8f-9838-45c0-bcd9-a04a3d325694",
   "metadata": {},
   "outputs": [
    {
     "name": "stdout",
     "output_type": "stream",
     "text": [
      "Warning: /home/lrgrant/ParFlow/Clements_2D/output/output_1985/fudge/drv_clmin.dat will not be overwritten unless OverwriteDrvClmin is set to True. Changes to the file may not be reflected in the calculation\n",
      "Warning: /home/lrgrant/ParFlow/Clements_2D/output/output_1985/fudge/drv_vegm.dat will not be overwritten unless OverwriteDrvVegm is set to True. Changes to the file may not be reflected in the calculation\n",
      "Warning: /home/lrgrant/ParFlow/Clements_2D/output/output_1985/fudge/drv_vegp.dat will not be overwritten unless OverwriteDrvVegp is set to True. Changes to the file may not be reflected in the calculation\n",
      "\n",
      "# ==============================================================================\n",
      "# ParFlow directory\n",
      "#  - /home/SHARED/software/parflow/3.10.0\n",
      "# ParFlow version\n",
      "#  - 3.10.0\n",
      "# Working directory\n",
      "#  - /home/lrgrant/ParFlow/Clements_2D/output/output_1985/fudge\n",
      "# ParFlow database\n",
      "#  - PFCLM_1985_SLR1.pfidb\n",
      "# ==============================================================================\n",
      "\n",
      "\n",
      "# ==============================================================================\n",
      "# ParFlow ran successfully 💦 💦 💦 \n",
      "# ==============================================================================\n",
      "\n"
     ]
    }
   ],
   "source": [
    "# re-initialize, re-run\n",
    "os.chdir(base)\n",
    "run = Run.from_definition('PFCLM_1985_SLR1.pfidb')  # load the run from the file, this is the same as the run above\n",
    "data = run.data_accessor # get the data accessor, this makes it easier to access the data from the run\n",
    "nt = len(data.times)  # get the number of time steps\n",
    "nx = data.shape[2]    # get the number of cells in the x direction\n",
    "ny = data.shape[1]    # get the number of cells in the y direction\n",
    "nz = data.shape[0]    # get the number of cells in the z direction\n",
    "dx = data.dx          # get the cell size in the x direction\n",
    "dy = data.dy          # get the cell size in the y direction\n",
    "dz = data.dz          # get the cell size in the z direction, this is a 1D array of size nz\n",
    "\n",
    "# loading grid, pressure field to re-initialize and re-run with good i.c.\n",
    "nrows = nz\n",
    "ncols = nx\n",
    "# print(nrows, ncols)\n",
    "\n",
    "# load pressure field for last time step\n",
    "pressure_end = read_pfb(get_absolute_path('PFCLM_1985_SLR1.out.press.08760.pfb')).reshape(nrows, ncols)\n",
    "\n",
    "# rearrange pressure field into a 3D array\n",
    "pressure_end_new = np.ones((nrows, ny, ncols))\n",
    "for i in range(nrows):\n",
    "    pressure_end_new[[i]] = pressure_end[i,:]\n",
    "\n",
    "# re-import write_pfb function so that the function runs and doesn't try to call boolean assigned before:\n",
    "from parflow.tools.io import write_pfb\n",
    "\n",
    "# write the new initial conditions into a file:\n",
    "write_pfb(get_absolute_path('PF_PressIC.pfb'), pressure_end_new)\n",
    "\n",
    "# we will change the \"initial condition pressure\" value to be the end value from the previous run\n",
    "PFCLM_1985_f1.ICPressure.Type                 = 'PFBFile'\n",
    "PFCLM_1985_f1.Geom.domain.ICPressure.FileName = 'PF_PressIC.pfb'\n",
    "\n",
    "# we will now run the model again\n",
    "PFCLM_1985_f1.run(working_directory=base)"
   ]
  },
  {
   "cell_type": "code",
   "execution_count": 76,
   "id": "d07cc38b-b04b-4681-876b-ae0e7a397d1f",
   "metadata": {},
   "outputs": [
    {
     "name": "stdout",
     "output_type": "stream",
     "text": [
      "(8761, 1)\n"
     ]
    }
   ],
   "source": [
    "# save flux as txt\n",
    "os.chdir(base)\n",
    "run = Run.from_definition('PFCLM_1985_SLR1.pfidb')  # load the run from the file, this is the same as the run above\n",
    "data = run.data_accessor # get the data accessor, this makes it easier to access the data from the run\n",
    "nx = data.shape[2]    # get the number of cells in the x direction\n",
    "nz = data.shape[0]    # get the number of cells in the z direction\n",
    "dx = data.dx          # get the cell size in the x direction\n",
    "dz = data.dz          # get the cell size in the z direction, this is a 1D array of size nz\n",
    "\n",
    "os.chdir(base)\n",
    "# load in the velocity files\n",
    "# get a list of all the velocity files in order\n",
    "Vx_files = sorted(glob(\"PFCLM_1985_SLR1.out.velx.*.pfb\"))\n",
    "\n",
    "# read in all velocity files into a 3D NParray\n",
    "Vx_arrays = pf.read_pfb_sequence(Vx_files)\n",
    "\n",
    "# select velocities at the coastal boundary\n",
    "Vx = Vx_arrays[:,:,0,-1]\n",
    "\n",
    "flux = (Vx*dz)   # per unit width\n",
    "# print(flux.shape)\n",
    "\n",
    "plot_flux = np.sum(flux, axis=1)\n",
    "plot_flux = np.expand_dims(plot_flux, axis=1)\n",
    "print(plot_flux.shape)\n",
    "\n",
    "flux_out = pd.DataFrame(plot_flux)\n",
    "\n",
    "os.chdir(\"/home/lrgrant/ParFlow/Clements_2D/output/output_1985/combo_txts\")\n",
    "flux_out.to_csv('SLR1_TLE_xflux.csv', sep = ' ', index=False, header=False)"
   ]
  },
  {
   "cell_type": "markdown",
   "id": "1fc4545c-6bcf-4521-84f6-0291aae9abe8",
   "metadata": {
    "jp-MarkdownHeadingCollapsed": true
   },
   "source": [
    "## SLR1 and THE"
   ]
  },
  {
   "cell_type": "markdown",
   "id": "8872ab4b-8beb-47d4-a9cd-b7a1c9f20009",
   "metadata": {},
   "source": [
    "Runs as a copy of SLR1 and TLE... named `PFCLM_1985_SLR1.pfidb` in the folder `/home/lrgrant/ParFlow/Clements_2D/output/output_1985/fudge`."
   ]
  },
  {
   "cell_type": "code",
   "execution_count": 77,
   "id": "5194e923-c963-4029-b1d8-abf2b4ddc369",
   "metadata": {},
   "outputs": [
    {
     "name": "stdout",
     "output_type": "stream",
     "text": [
      "Warning: The following CLM variables could not be set:\n",
      "  - nt\n",
      "  - sw_ini\n",
      "  - hkdepth\n",
      "  - wtfact\n",
      "  - trsmx0\n",
      "  - smpmax\n",
      "  - pondmx\n",
      "/home/lrgrant/ParFlow/Clements_2D/output/output_1985/fudge\n",
      "Warning: /home/lrgrant/ParFlow/Clements_2D/output/output_1985/fudge/drv_clmin.dat will not be overwritten unless OverwriteDrvClmin is set to True. Changes to the file may not be reflected in the calculation\n",
      "Warning: /home/lrgrant/ParFlow/Clements_2D/output/output_1985/fudge/drv_vegm.dat will not be overwritten unless OverwriteDrvVegm is set to True. Changes to the file may not be reflected in the calculation\n",
      "Warning: /home/lrgrant/ParFlow/Clements_2D/output/output_1985/fudge/drv_vegp.dat will not be overwritten unless OverwriteDrvVegp is set to True. Changes to the file may not be reflected in the calculation\n",
      "\n",
      "# ==============================================================================\n",
      "# ParFlow directory\n",
      "#  - /home/SHARED/software/parflow/3.10.0\n",
      "# ParFlow version\n",
      "#  - 3.10.0\n",
      "# Working directory\n",
      "#  - /home/lrgrant/ParFlow/Clements_2D/output/output_1985/fudge\n",
      "# ParFlow database\n",
      "#  - PFCLM_1985_SLR1.pfidb\n",
      "# ==============================================================================\n",
      "\n"
     ]
    },
    {
     "name": "stderr",
     "output_type": "stream",
     "text": [
      "/home/SHARED/virtual-environments/parflow-shared/conda/lib/python3.11/site-packages/parflow/tools/io.py:1300: FutureWarning: The 'delim_whitespace' keyword in pd.read_csv is deprecated and will be removed in a future version. Use ``sep='\\s+'`` instead\n",
      "  df = pd.read_csv(file_name, delim_whitespace=True, skiprows=2, header=None)\n"
     ]
    },
    {
     "name": "stdout",
     "output_type": "stream",
     "text": [
      "\n",
      "# ==============================================================================\n",
      "# ParFlow ran successfully 💦 💦 💦 \n",
      "# ==============================================================================\n",
      "\n"
     ]
    }
   ],
   "source": [
    "# copying in SLR1\n",
    "os.chdir(base + \"/../SLR1\")\n",
    "PFCLM_1985_SLR1 = Run.from_definition('PFCLM_1985_SLR1.pfidb')\n",
    "\n",
    "os.chdir(base)\n",
    "PFCLM_1985_f1 = deepcopy(PFCLM_1985_SLR1)\n",
    "\n",
    "# reverting Pressure Initial Conditions to Original Types/Values\n",
    "PFCLM_1985_f1.ICPressure.Type                 = 'HydroStaticPatch'\n",
    "PFCLM_1985_f1.ICPressure.GeomNames            = 'domain'\n",
    "PFCLM_1985_f1.Geom.domain.ICPressure.Value    = -2.00  # pressure at 8760 step of previous run, same WY\n",
    "PFCLM_1985_f1.Geom.domain.ICPressure.RefGeom  = 'domain'\n",
    "PFCLM_1985_f1.Geom.domain.ICPressure.RefPatch = 'z_upper'\n",
    "\n",
    "PFCLM_1985_f1.Solver.CLM.MetFileName = 'forcing1D_1985_THE.txt'\n",
    "PFCLM_1985_f1.Solver.CLM.MetFilePath  = os.getcwd() + '/../../../forcing/forcing_1985'\n",
    "\n",
    "# # run model with new SLR condition\n",
    "print(base)\n",
    "PFCLM_1985_f1.run(working_directory=base)"
   ]
  },
  {
   "cell_type": "code",
   "execution_count": 78,
   "id": "975097c6-a6b7-4ba8-9d9e-479113f5a03c",
   "metadata": {},
   "outputs": [
    {
     "name": "stdout",
     "output_type": "stream",
     "text": [
      "Warning: /home/lrgrant/ParFlow/Clements_2D/output/output_1985/fudge/drv_clmin.dat will not be overwritten unless OverwriteDrvClmin is set to True. Changes to the file may not be reflected in the calculation\n",
      "Warning: /home/lrgrant/ParFlow/Clements_2D/output/output_1985/fudge/drv_vegm.dat will not be overwritten unless OverwriteDrvVegm is set to True. Changes to the file may not be reflected in the calculation\n",
      "Warning: /home/lrgrant/ParFlow/Clements_2D/output/output_1985/fudge/drv_vegp.dat will not be overwritten unless OverwriteDrvVegp is set to True. Changes to the file may not be reflected in the calculation\n",
      "\n",
      "# ==============================================================================\n",
      "# ParFlow directory\n",
      "#  - /home/SHARED/software/parflow/3.10.0\n",
      "# ParFlow version\n",
      "#  - 3.10.0\n",
      "# Working directory\n",
      "#  - /home/lrgrant/ParFlow/Clements_2D/output/output_1985/fudge\n",
      "# ParFlow database\n",
      "#  - PFCLM_1985_SLR1.pfidb\n",
      "# ==============================================================================\n",
      "\n",
      "\n",
      "# ==============================================================================\n",
      "# ParFlow ran successfully 💦 💦 💦 \n",
      "# ==============================================================================\n",
      "\n"
     ]
    }
   ],
   "source": [
    "# re-initialize, re-run\n",
    "os.chdir(base)\n",
    "run = Run.from_definition('PFCLM_1985_SLR1.pfidb')  # load the run from the file, this is the same as the run above\n",
    "data = run.data_accessor # get the data accessor, this makes it easier to access the data from the run\n",
    "nt = len(data.times)  # get the number of time steps\n",
    "nx = data.shape[2]    # get the number of cells in the x direction\n",
    "ny = data.shape[1]    # get the number of cells in the y direction\n",
    "nz = data.shape[0]    # get the number of cells in the z direction\n",
    "dx = data.dx          # get the cell size in the x direction\n",
    "dy = data.dy          # get the cell size in the y direction\n",
    "dz = data.dz          # get the cell size in the z direction, this is a 1D array of size nz\n",
    "\n",
    "# loading grid, pressure field to re-initialize and re-run with good i.c.\n",
    "nrows = nz\n",
    "ncols = nx\n",
    "# print(nrows, ncols)\n",
    "\n",
    "# load pressure field for last time step\n",
    "pressure_end = read_pfb(get_absolute_path('PFCLM_1985_SLR1.out.press.08760.pfb')).reshape(nrows, ncols)\n",
    "\n",
    "# rearrange pressure field into a 3D array\n",
    "pressure_end_new = np.ones((nrows, ny, ncols))\n",
    "for i in range(nrows):\n",
    "    pressure_end_new[[i]] = pressure_end[i,:]\n",
    "\n",
    "# re-import write_pfb function so that the function runs and doesn't try to call boolean assigned before:\n",
    "from parflow.tools.io import write_pfb\n",
    "\n",
    "# write the new initial conditions into a file:\n",
    "write_pfb(get_absolute_path('PF_PressIC.pfb'), pressure_end_new)\n",
    "\n",
    "# we will change the \"initial condition pressure\" value to be the end value from the previous run\n",
    "PFCLM_1985_f1.ICPressure.Type                 = 'PFBFile'\n",
    "PFCLM_1985_f1.Geom.domain.ICPressure.FileName = 'PF_PressIC.pfb'\n",
    "\n",
    "# we will now run the model again\n",
    "PFCLM_1985_f1.run(working_directory=base)"
   ]
  },
  {
   "cell_type": "code",
   "execution_count": 79,
   "id": "7c620e6a-b8bf-40fa-9da4-190d871384f3",
   "metadata": {},
   "outputs": [
    {
     "name": "stdout",
     "output_type": "stream",
     "text": [
      "(8761, 1)\n"
     ]
    }
   ],
   "source": [
    "# save flux as txt\n",
    "os.chdir(base)\n",
    "run = Run.from_definition('PFCLM_1985_SLR1.pfidb')  # load the run from the file, this is the same as the run above\n",
    "data = run.data_accessor # get the data accessor, this makes it easier to access the data from the run\n",
    "nx = data.shape[2]    # get the number of cells in the x direction\n",
    "nz = data.shape[0]    # get the number of cells in the z direction\n",
    "dx = data.dx          # get the cell size in the x direction\n",
    "dz = data.dz          # get the cell size in the z direction, this is a 1D array of size nz\n",
    "\n",
    "os.chdir(base)\n",
    "# load in the velocity files\n",
    "# get a list of all the velocity files in order\n",
    "Vx_files = sorted(glob(\"PFCLM_1985_SLR1.out.velx.*.pfb\"))\n",
    "\n",
    "# read in all velocity files into a 3D NParray\n",
    "Vx_arrays = pf.read_pfb_sequence(Vx_files)\n",
    "\n",
    "# select velocities at the coastal boundary\n",
    "Vx = Vx_arrays[:,:,0,-1]\n",
    "\n",
    "flux = (Vx*dz)   # per unit width\n",
    "# print(flux.shape)\n",
    "\n",
    "plot_flux = np.sum(flux, axis=1)\n",
    "plot_flux = np.expand_dims(plot_flux, axis=1)\n",
    "print(plot_flux.shape)\n",
    "\n",
    "flux_out = pd.DataFrame(plot_flux)\n",
    "\n",
    "os.chdir(\"/home/lrgrant/ParFlow/Clements_2D/output/output_1985/combo_txts\")\n",
    "flux_out.to_csv('SLR1_THE_xflux.csv', sep = ' ', index=False, header=False)"
   ]
  },
  {
   "cell_type": "markdown",
   "id": "0cad6b1c-e6c2-45d7-b0bc-078316aab30e",
   "metadata": {
    "jp-MarkdownHeadingCollapsed": true
   },
   "source": [
    "## SLR1 and FS"
   ]
  },
  {
   "cell_type": "markdown",
   "id": "e165557d-57c2-4aa1-a762-03d41dd712b0",
   "metadata": {},
   "source": [
    "Runs as above, with the run alterations:\n",
    "> `PFCLM_1985_f1.Solver.CLM.MetFileName = 'forcing1D_1985_FS.txt'` <br/>\n",
    "> `PFCLM_1985_f1.Solver.CLM.MetFilePath  = os.getcwd() + '/../FS'` <br/>"
   ]
  },
  {
   "cell_type": "markdown",
   "id": "cd3b3dc4-f683-4065-9c60-14869fbd5323",
   "metadata": {
    "jp-MarkdownHeadingCollapsed": true
   },
   "source": [
    "## SLR1 and MS"
   ]
  },
  {
   "cell_type": "markdown",
   "id": "730491af-d604-4258-a170-2ebde9a1eb06",
   "metadata": {},
   "source": [
    "Runs as above, with the run alterations:\n",
    "> `PFCLM_1985_f1.Solver.CLM.MetFileName = 'forcing1D_1985_MS.txt'` <br/>\n",
    "> `PFCLM_1985_f1.Solver.CLM.MetFilePath  = os.getcwd() + '/../MS'` <br/>"
   ]
  },
  {
   "cell_type": "markdown",
   "id": "69c96295-10ee-434c-ab6d-a25a5d45c945",
   "metadata": {
    "jp-MarkdownHeadingCollapsed": true
   },
   "source": [
    "## SLR1 and HP"
   ]
  },
  {
   "cell_type": "markdown",
   "id": "3ada1a0d-8984-4891-a5e7-27e86c34d5a8",
   "metadata": {},
   "source": [
    "Runs as above, with the run alterations:\n",
    "> `PFCLM_1985_f1.Solver.CLM.MetFileName = 'forcing1D_1985_HP.txt'` <br/>\n",
    "> `PFCLM_1985_f1.Solver.CLM.MetFilePath  = os.getcwd() + '/../HP'` <br/>"
   ]
  },
  {
   "cell_type": "markdown",
   "id": "939e1af5-9e06-4c7c-87d6-ca1cdb264868",
   "metadata": {
    "jp-MarkdownHeadingCollapsed": true
   },
   "source": [
    "## SLR1 and FS and TLE"
   ]
  },
  {
   "cell_type": "markdown",
   "id": "e14a5c30-24f5-4e53-a1fa-c0b095c54a54",
   "metadata": {},
   "source": [
    "Runs as above, with the run alterations:\n",
    "> `PFCLM_1985_f1.Solver.CLM.MetFileName = 'forcing1D_1985_FS_TLE.txt'` <br/>\n",
    "> `PFCLM_1985_f1.Solver.CLM.MetFilePath  = os.getcwd() + '/../combo_txts/combo_forcing'` <br/>"
   ]
  },
  {
   "cell_type": "markdown",
   "id": "c2bc902c-db2e-4bdd-9ba1-0ce2398a72fa",
   "metadata": {
    "jp-MarkdownHeadingCollapsed": true
   },
   "source": [
    "## SLR1 and FS and THE"
   ]
  },
  {
   "cell_type": "markdown",
   "id": "199a7901-1d1d-4062-93bb-505e05c83edb",
   "metadata": {},
   "source": [
    "Runs as above, with the run alterations:\n",
    "> `PFCLM_1985_f1.Solver.CLM.MetFileName = 'forcing1D_1985_FS_THE.txt'` <br/>\n",
    "> `PFCLM_1985_f1.Solver.CLM.MetFilePath  = os.getcwd() + '/../combo_txts/combo_forcing'` <br/>"
   ]
  },
  {
   "cell_type": "markdown",
   "id": "2afcb4d7-056a-41c2-93a7-da5fbebd73ec",
   "metadata": {
    "jp-MarkdownHeadingCollapsed": true
   },
   "source": [
    "## SLR1 and MS and THE"
   ]
  },
  {
   "cell_type": "markdown",
   "id": "6a179161-f9fd-4a05-9e26-6625918f9ae3",
   "metadata": {},
   "source": [
    "Runs as above, with the run alterations:\n",
    "> `PFCLM_1985_f1.Solver.CLM.MetFileName = 'forcing1D_1985_MS_THE.txt'` <br/>\n",
    "> `PFCLM_1985_f1.Solver.CLM.MetFilePath  = os.getcwd() + '/../combo_txts/combo_forcing'` <br/>"
   ]
  },
  {
   "cell_type": "markdown",
   "id": "b2b600cf-4faf-465c-b24b-50a16fb83de4",
   "metadata": {
    "jp-MarkdownHeadingCollapsed": true
   },
   "source": [
    "## SLR1 and MS and TLE"
   ]
  },
  {
   "cell_type": "markdown",
   "id": "df5886e2-49d4-4716-8b38-ff95f9918191",
   "metadata": {},
   "source": [
    "Runs as above, with the run alterations:\n",
    "> `PFCLM_1985_f1.Solver.CLM.MetFileName = 'forcing1D_1985_MS_TLE.txt'` <br/>\n",
    "> `PFCLM_1985_f1.Solver.CLM.MetFilePath  = os.getcwd() + '/../combo_txts/combo_forcing'` <br/>"
   ]
  },
  {
   "cell_type": "markdown",
   "id": "885c4a7a-78e6-41a1-8fa7-c18f1d2eade7",
   "metadata": {
    "jp-MarkdownHeadingCollapsed": true
   },
   "source": [
    "## SLR1 and HP and THE"
   ]
  },
  {
   "cell_type": "markdown",
   "id": "621f9247-934f-4516-acb4-a766f2fe4159",
   "metadata": {},
   "source": [
    "Runs as above, with the run alterations:\n",
    "> `PFCLM_1985_f1.Solver.CLM.MetFileName = 'forcing1D_1985_HP_THE.txt'` <br/>\n",
    "> `PFCLM_1985_f1.Solver.CLM.MetFilePath  = os.getcwd() + '/../combo_txts/combo_forcing'` <br/>"
   ]
  },
  {
   "cell_type": "markdown",
   "id": "f12ab25c-c0e8-4694-a6f5-3f08073a0b06",
   "metadata": {
    "jp-MarkdownHeadingCollapsed": true
   },
   "source": [
    "## SLR1 and HP and TLE"
   ]
  },
  {
   "cell_type": "markdown",
   "id": "27b9c7a5-ff32-48bf-af51-32f13d432fe0",
   "metadata": {},
   "source": [
    "Runs as above, with the run alterations:\n",
    "> `PFCLM_1985_f1.Solver.CLM.MetFileName = 'forcing1D_1985_HP_TLE.txt'` <br/>\n",
    "> `PFCLM_1985_f1.Solver.CLM.MetFilePath  = os.getcwd() + '/../combo_txts/combo_forcing'` <br/>"
   ]
  },
  {
   "cell_type": "markdown",
   "id": "ad548796-1b01-4557-8592-9ca4064dcf24",
   "metadata": {
    "jp-MarkdownHeadingCollapsed": true
   },
   "source": [
    "# SLR2"
   ]
  },
  {
   "cell_type": "markdown",
   "id": "54812f23-fca2-4dad-8feb-3ac51458c6ff",
   "metadata": {},
   "source": [
    "Runs as SLR1 combo-runs. All runs are alterations of `PFCLM_1985_SLR2.pfidb`. The following runs were completed:\n",
    "> SLR2 & TLE <br/>\n",
    "> SLR2 & THE <br/>\n",
    "> SLR2 & FS <br/>\n",
    "> SLR2 & MS <br/>\n",
    "> SLR2 & HP <br/>\n",
    "> SLR2 & FS & THE <br/>\n",
    "> SLR2 & FS & TLE <br/>\n",
    "> SLR2 & MS & THE <br/>\n",
    "> SLR2 & MS & TLE <br/>\n",
    "> SLR2 & HP & THE <br/>\n",
    "> SLR2 & HP & TLE <br/>"
   ]
  },
  {
   "cell_type": "markdown",
   "id": "43bd59f7-a825-4730-955a-ff97337b60d9",
   "metadata": {
    "jp-MarkdownHeadingCollapsed": true
   },
   "source": [
    "# SLR5"
   ]
  },
  {
   "cell_type": "markdown",
   "id": "9ec12e7a-c849-42a1-8a83-34ef43ecc6e0",
   "metadata": {},
   "source": [
    "Runs as SLR1 combo-runs. All runs are alterations of `PFCLM_1985_SLR5.pfidb`. The following runs were completed:\n",
    "> SLR5 & TLE <br/>\n",
    "> SLR5 & THE <br/>\n",
    "> SLR5 & FS <br/>\n",
    "> SLR5 & MS <br/>\n",
    "> SLR5 & HP <br/>\n",
    "> SLR5 & FS & THE <br/>\n",
    "> SLR5 & FS & TLE <br/>\n",
    "> SLR5 & MS & THE <br/>\n",
    "> SLR5 & MS & TLE <br/>\n",
    "> SLR5 & HP & THE <br/>\n",
    "> SLR5 & HP & TLE <br/>"
   ]
  },
  {
   "cell_type": "markdown",
   "id": "d68ada0f-e770-4dd0-b21b-bde71db7bd99",
   "metadata": {
    "jp-MarkdownHeadingCollapsed": true
   },
   "source": [
    "# No SLR"
   ]
  },
  {
   "cell_type": "markdown",
   "id": "ec5b193b-3156-42c3-80f1-277306d14df6",
   "metadata": {},
   "source": [
    "Starts with a new run in the `FS and TLE` section with the same parameters as `OG` (though named `PFCLM_1985_f` for this section). We then apply different forcing files to the `PFCLM_1985_f` run and save flux outputs."
   ]
  },
  {
   "cell_type": "markdown",
   "id": "4887bed4-d668-456b-a271-14fc1b2d0585",
   "metadata": {
    "jp-MarkdownHeadingCollapsed": true
   },
   "source": [
    "## FS and TLE"
   ]
  },
  {
   "cell_type": "code",
   "execution_count": 175,
   "id": "260c3b56-5289-411d-95cd-557ca36b07e8",
   "metadata": {},
   "outputs": [],
   "source": [
    "#-----------------------------------------------------------------------------\n",
    "# Set Run Parameters\n",
    "#-----------------------------------------------------------------------------\n",
    "base = '/home/lrgrant/ParFlow/Clements_2D/output/output_1985/fudge'\n",
    "\n",
    "# Set our Run Name \n",
    "PFCLM_1985_f = Run(\"PFCLM_1985_f\")\n",
    "\n",
    "\n",
    "stopt = 8760\n",
    "## run only for 24 hours for the water balance example\n",
    "#stopt = 24\n",
    "\n",
    "os.chdir(base)\n",
    "#-----------------------------------------------------------------------------\n",
    "# File input version number\n",
    "#-----------------------------------------------------------------------------\n",
    "PFCLM_1985_f.FileVersion = 4\n",
    "\n",
    "#-----------------------------------------------------------------------------\n",
    "# Process Topology\n",
    "#-----------------------------------------------------------------------------\n",
    "\n",
    "PFCLM_1985_f.Process.Topology.P = 1\n",
    "PFCLM_1985_f.Process.Topology.Q = 1\n",
    "PFCLM_1985_f.Process.Topology.R = 1\n",
    "\n",
    "#-----------------------------------------------------------------------------\n",
    "# Computational Grid\n",
    "#-----------------------------------------------------------------------------\n",
    "PFCLM_1985_f.ComputationalGrid.Lower.X = 0.0\n",
    "PFCLM_1985_f.ComputationalGrid.Lower.Y = 0.0\n",
    "PFCLM_1985_f.ComputationalGrid.Lower.Z = 0.0\n",
    "\n",
    "PFCLM_1985_f.ComputationalGrid.DX      = 100.0\n",
    "PFCLM_1985_f.ComputationalGrid.DY      = 2.0\n",
    "PFCLM_1985_f.ComputationalGrid.DZ      = 1.0\n",
    "\n",
    "PFCLM_1985_f.ComputationalGrid.NX      = 20\n",
    "PFCLM_1985_f.ComputationalGrid.NY      = 1\n",
    "PFCLM_1985_f.ComputationalGrid.NZ      = 8\n",
    "\n",
    "#-----------------------------------------------------------------------------\n",
    "# The Names of the GeomInputs\n",
    "#-----------------------------------------------------------------------------\n",
    "PFCLM_1985_f.GeomInput.Names = 'domain_input'\n",
    "\n",
    "#-----------------------------------------------------------------------------\n",
    "# Domain Geometry Input\n",
    "#-----------------------------------------------------------------------------\n",
    "PFCLM_1985_f.GeomInput.domain_input.InputType = 'Box'\n",
    "PFCLM_1985_f.GeomInput.domain_input.GeomName  = 'domain'\n",
    "\n",
    "#-----------------------------------------------------------------------------\n",
    "# Domain Geometry\n",
    "#-----------------------------------------------------------------------------\n",
    "PFCLM_1985_f.Geom.domain.Lower.X = 0.0\n",
    "PFCLM_1985_f.Geom.domain.Lower.Y = 0.0\n",
    "PFCLM_1985_f.Geom.domain.Lower.Z = 0.0\n",
    "\n",
    "PFCLM_1985_f.Geom.domain.Upper.X = 2000.0\n",
    "PFCLM_1985_f.Geom.domain.Upper.Y = 2.0\n",
    "PFCLM_1985_f.Geom.domain.Upper.Z = 8.0\n",
    "\n",
    "PFCLM_1985_f.Geom.domain.Patches = 'x_lower x_upper y_lower y_upper z_lower z_upper'\n",
    "\n",
    "#--------------------------------------------\n",
    "# variable dz assignments\n",
    "#------------------------------------------\n",
    "\n",
    "PFCLM_1985_f.Solver.Nonlinear.VariableDz = True\n",
    "PFCLM_1985_f.dzScale.GeomNames           = 'domain'\n",
    "PFCLM_1985_f.dzScale.Type                = 'nzList'\n",
    "PFCLM_1985_f.dzScale.nzListNumber        = 8\n",
    "\n",
    "# cells start at the bottom (0) and moves up to the top\n",
    "# domain is 75 m thick, root zone is down to 4 cells \n",
    "# so the root zone is 2 m thick   \n",
    "PFCLM_1985_f.Cell._0.dzScale.Value  = 18.0   \n",
    "PFCLM_1985_f.Cell._1.dzScale.Value  = 24.0\n",
    "PFCLM_1985_f.Cell._2.dzScale.Value  = 30.0\n",
    "PFCLM_1985_f.Cell._3.dzScale.Value  = 1.0    \n",
    "PFCLM_1985_f.Cell._4.dzScale.Value  = 1.0   # top of rooting zone - leaving unchanged\n",
    "PFCLM_1985_f.Cell._5.dzScale.Value  = 0.6   #0.6* 1.0 = 0.6  60 cm 3rd layer\n",
    "PFCLM_1985_f.Cell._6.dzScale.Value  = 0.3   #0.3* 1.0 = 0.3  30 cm 2nd layer\n",
    "PFCLM_1985_f.Cell._7.dzScale.Value  = 0.1   #0.1* 1.0 = 0.1  10 cm top layer\n",
    "\n",
    "#-----------------------------------------------------------------------------\n",
    "# Perm\n",
    "#-----------------------------------------------------------------------------\n",
    "PFCLM_1985_f.Geom.Perm.Names              = 'domain'\n",
    "\n",
    "PFCLM_1985_f.Geom.domain.Perm.Type        = 'Constant'\n",
    "PFCLM_1985_f.Geom.domain.Perm.Value       = 0.2  # m/h\n",
    "\n",
    "PFCLM_1985_f.Perm.TensorType              = 'TensorByGeom'\n",
    "PFCLM_1985_f.Geom.Perm.TensorByGeom.Names = 'domain'\n",
    "PFCLM_1985_f.Geom.domain.Perm.TensorValX  = 1.0\n",
    "PFCLM_1985_f.Geom.domain.Perm.TensorValY  = 1.0\n",
    "PFCLM_1985_f.Geom.domain.Perm.TensorValZ  = 1.0\n",
    "\n",
    "\n",
    "#-----------------------------------------------------------------------------\n",
    "# Specific Storage\n",
    "#-----------------------------------------------------------------------------\n",
    "\n",
    "PFCLM_1985_f.SpecificStorage.Type              = 'Constant'\n",
    "PFCLM_1985_f.SpecificStorage.GeomNames         = 'domain'\n",
    "PFCLM_1985_f.Geom.domain.SpecificStorage.Value = 1.0e-4\n",
    "\n",
    "#-----------------------------------------------------------------------------\n",
    "# Phases\n",
    "#-----------------------------------------------------------------------------\n",
    "\n",
    "PFCLM_1985_f.Phase.Names = 'water'\n",
    "\n",
    "PFCLM_1985_f.Phase.water.Density.Type     = 'Constant'\n",
    "PFCLM_1985_f.Phase.water.Density.Value    = 1.0\n",
    "\n",
    "PFCLM_1985_f.Phase.water.Viscosity.Type   = 'Constant'\n",
    "PFCLM_1985_f.Phase.water.Viscosity.Value  = 1.0\n",
    "\n",
    "#-----------------------------------------------------------------------------\n",
    "# Contaminants\n",
    "#-----------------------------------------------------------------------------\n",
    "PFCLM_1985_f.Contaminants.Names = ''\n",
    "\n",
    "\n",
    "#-----------------------------------------------------------------------------\n",
    "# Gravity\n",
    "#-----------------------------------------------------------------------------\n",
    "\n",
    "PFCLM_1985_f.Gravity = 1.0\n",
    "\n",
    "#-----------------------------------------------------------------------------\n",
    "# Setup timing info\n",
    "#-----------------------------------------------------------------------------\n",
    "\n",
    "PFCLM_1985_f.TimingInfo.BaseUnit     = 1.0\n",
    "PFCLM_1985_f.TimingInfo.StartCount   = 0\n",
    "PFCLM_1985_f.TimingInfo.StartTime    = 0.0\n",
    "PFCLM_1985_f.TimingInfo.StopTime     = stopt\n",
    "PFCLM_1985_f.TimingInfo.DumpInterval = 1.0\n",
    "PFCLM_1985_f.TimeStep.Type           = 'Constant'\n",
    "PFCLM_1985_f.TimeStep.Value          = 1.0\n",
    "\n",
    "\n",
    "#-----------------------------------------------------------------------------\n",
    "# Porosity\n",
    "#-----------------------------------------------------------------------------\n",
    "\n",
    "PFCLM_1985_f.Geom.Porosity.GeomNames    = 'domain'\n",
    "\n",
    "PFCLM_1985_f.Geom.domain.Porosity.Type  = 'Constant'\n",
    "PFCLM_1985_f.Geom.domain.Porosity.Value = 0.25\n",
    "\n",
    "#-----------------------------------------------------------------------------\n",
    "# Domain\n",
    "#-----------------------------------------------------------------------------\n",
    "PFCLM_1985_f.Domain.GeomName = 'domain'\n",
    "\n",
    "#-----------------------------------------------------------------------------\n",
    "# Mobility\n",
    "#-----------------------------------------------------------------------------\n",
    "PFCLM_1985_f.Phase.water.Mobility.Type  = 'Constant'\n",
    "PFCLM_1985_f.Phase.water.Mobility.Value = 1.0\n",
    "\n",
    "#-----------------------------------------------------------------------------\n",
    "# Relative Permeability\n",
    "#-----------------------------------------------------------------------------\n",
    "\n",
    "PFCLM_1985_f.Phase.RelPerm.Type        = 'VanGenuchten'\n",
    "PFCLM_1985_f.Phase.RelPerm.GeomNames   = 'domain'\n",
    "\n",
    "PFCLM_1985_f.Geom.domain.RelPerm.Alpha = 2.0\n",
    "PFCLM_1985_f.Geom.domain.RelPerm.N     = 3.0\n",
    "\n",
    "#---------------------------------------------------------\n",
    "# Saturation\n",
    "#---------------------------------------------------------\n",
    "\n",
    "PFCLM_1985_f.Phase.Saturation.Type        = 'VanGenuchten'\n",
    "PFCLM_1985_f.Phase.Saturation.GeomNames   = 'domain'\n",
    "\n",
    "PFCLM_1985_f.Geom.domain.Saturation.Alpha = 2.0\n",
    "PFCLM_1985_f.Geom.domain.Saturation.N     = 3.0\n",
    "PFCLM_1985_f.Geom.domain.Saturation.SRes  = 0.2\n",
    "PFCLM_1985_f.Geom.domain.Saturation.SSat  = 1.0\n",
    "\n",
    "#-----------------------------------------------------------------------------\n",
    "# Wells\n",
    "#-----------------------------------------------------------------------------\n",
    "PFCLM_1985_f.Wells.Names = ''\n",
    "\n",
    "\n",
    "#-----------------------------------------------------------------------------\n",
    "# Time Cycles\n",
    "#-----------------------------------------------------------------------------\n",
    "PFCLM_1985_f.Cycle.Names = 'constant'\n",
    "PFCLM_1985_f.Cycle.constant.Names = 'alltime'\n",
    "PFCLM_1985_f.Cycle.constant.alltime.Length = 1\n",
    "PFCLM_1985_f.Cycle.constant.Repeat = -1\n",
    "\n",
    "#-----------------------------------------------------------------------------\n",
    "# Boundary Conditions: Pressure\n",
    "#-----------------------------------------------------------------------------\n",
    "PFCLM_1985_f.BCPressure.PatchNames = 'x_lower x_upper y_lower y_upper z_lower z_upper'\n",
    "\n",
    "PFCLM_1985_f.Patch.y_lower.BCPressure.Type          = 'FluxConst'\n",
    "PFCLM_1985_f.Patch.y_lower.BCPressure.Cycle         = 'constant'\n",
    "PFCLM_1985_f.Patch.y_lower.BCPressure.alltime.Value = 0.0\n",
    "\n",
    "PFCLM_1985_f.Patch.z_lower.BCPressure.Type = 'FluxConst'\n",
    "PFCLM_1985_f.Patch.z_lower.BCPressure.Cycle         = 'constant'\n",
    "PFCLM_1985_f.Patch.z_lower.BCPressure.alltime.Value = 0.0\n",
    "\n",
    "PFCLM_1985_f.Patch.x_lower.BCPressure.Type          = 'FluxConst'\n",
    "PFCLM_1985_f.Patch.x_lower.BCPressure.Cycle         = 'constant'\n",
    "PFCLM_1985_f.Patch.x_lower.BCPressure.alltime.Value = 0.0\n",
    "\n",
    "PFCLM_1985_f.Patch.x_upper.BCPressure.Type          = 'DirEquilRefPatch'\n",
    "PFCLM_1985_f.Patch.x_upper.BCPressure.RefGeom       = 'domain'\n",
    "PFCLM_1985_f.Patch.x_upper.BCPressure.RefPatch      = 'z_upper'\n",
    "PFCLM_1985_f.Patch.x_upper.BCPressure.Cycle         = 'constant'\n",
    "PFCLM_1985_f.Patch.x_upper.BCPressure.alltime.Value = -2.0  # ocean boundary is 2m below land surface\n",
    "\n",
    "PFCLM_1985_f.Patch.y_upper.BCPressure.Type          = 'FluxConst'\n",
    "PFCLM_1985_f.Patch.y_upper.BCPressure.Cycle         = 'constant'\n",
    "PFCLM_1985_f.Patch.y_upper.BCPressure.alltime.Value = 0.0\n",
    "\n",
    "PFCLM_1985_f.Patch.z_upper.BCPressure.Type          = 'OverlandFlow'\n",
    "PFCLM_1985_f.Patch.z_upper.BCPressure.Cycle         = 'constant'\n",
    "PFCLM_1985_f.Patch.z_upper.BCPressure.alltime.Value = 0.0\n",
    "\n",
    "#---------------------------------------------------------\n",
    "# Topo slopes in x-direction\n",
    "#---------------------------------------------------------\n",
    "\n",
    "PFCLM_1985_f.TopoSlopesX.Type              = 'Constant'\n",
    "PFCLM_1985_f.TopoSlopesX.GeomNames         = 'domain'\n",
    "PFCLM_1985_f.TopoSlopesX.Geom.domain.Value = -0.1  #slope in X-direction to allow ponded water to run off\n",
    "\n",
    "#---------------------------------------------------------\n",
    "# Topo slopes in y-direction\n",
    "#---------------------------------------------------------\n",
    "\n",
    "PFCLM_1985_f.TopoSlopesY.Type              = 'Constant'\n",
    "PFCLM_1985_f.TopoSlopesY.GeomNames         = 'domain'\n",
    "PFCLM_1985_f.TopoSlopesY.Geom.domain.Value = 0.0\n",
    "\n",
    "#---------------------------------------------------------\n",
    "# Mannings coefficient\n",
    "#---------------------------------------------------------\n",
    "\n",
    "PFCLM_1985_f.Mannings.Type               = 'Constant'\n",
    "PFCLM_1985_f.Mannings.GeomNames          = 'domain'\n",
    "PFCLM_1985_f.Mannings.Geom.domain.Value  = 2.e-6\n",
    "\n",
    "#-----------------------------------------------------------------------------\n",
    "# Phase sources:\n",
    "#-----------------------------------------------------------------------------\n",
    "\n",
    "PFCLM_1985_f.PhaseSources.water.Type              = 'Constant'\n",
    "PFCLM_1985_f.PhaseSources.water.GeomNames         = 'domain'\n",
    "PFCLM_1985_f.PhaseSources.water.Geom.domain.Value = 0.0\n",
    "\n",
    "#-----------------------------------------------------------------------------\n",
    "# Exact solution specification for error calculations\n",
    "#-----------------------------------------------------------------------------\n",
    "\n",
    "PFCLM_1985_f.KnownSolution = 'NoKnownSolution'\n",
    "\n",
    "#-----------------------------------------------------------------------------\n",
    "# Set solver parameters\n",
    "#-----------------------------------------------------------------------------\n",
    "\n",
    "PFCLM_1985_f.Solver         = 'Richards'\n",
    "PFCLM_1985_f.Solver.MaxIter = 9000\n",
    "\n",
    "PFCLM_1985_f.Solver.Nonlinear.MaxIter           = 100\n",
    "PFCLM_1985_f.Solver.Nonlinear.ResidualTol       = 1e-5\n",
    "PFCLM_1985_f.Solver.Nonlinear.EtaChoice         = 'Walker1'\n",
    "PFCLM_1985_f.Solver.Nonlinear.EtaValue          = 0.01\n",
    "PFCLM_1985_f.Solver.Nonlinear.UseJacobian       = True\n",
    "PFCLM_1985_f.Solver.Nonlinear.DerivativeEpsilon = 1e-12\n",
    "PFCLM_1985_f.Solver.Nonlinear.StepTol           = 1e-30\n",
    "PFCLM_1985_f.Solver.Nonlinear.Globalization     = 'LineSearch'\n",
    "PFCLM_1985_f.Solver.Linear.KrylovDimension      = 100\n",
    "PFCLM_1985_f.Solver.Linear.MaxRestarts          = 5\n",
    "PFCLM_1985_f.Solver.Linear.Preconditioner       = 'PFMG'\n",
    "PFCLM_1985_f.Solver.PrintSubsurf                = True\n",
    "PFCLM_1985_f.Solver.Drop                        = 1E-20\n",
    "PFCLM_1985_f.Solver.AbsTol                      = 1E-9\n",
    "\n",
    "#Writing output options for ParFlow\n",
    "write_pfb = True  #only PFB output for water balance example\n",
    "#  PFB  no SILO\n",
    "PFCLM_1985_f.Solver.PrintSubsurfData         = write_pfb\n",
    "PFCLM_1985_f.Solver.PrintPressure            = write_pfb\n",
    "PFCLM_1985_f.Solver.PrintSaturation          = write_pfb\n",
    "PFCLM_1985_f.Solver.PrintCLM                 = write_pfb\n",
    "PFCLM_1985_f.Solver.PrintMask                = write_pfb\n",
    "PFCLM_1985_f.Solver.PrintSpecificStorage     = write_pfb\n",
    "PFCLM_1985_f.Solver.PrintEvapTrans           = write_pfb\n",
    "PFCLM_1985_f.Solver.PrintVelocities          = True \n",
    "\n",
    "PFCLM_1985_f.Solver.WriteSiloMannings        = False\n",
    "PFCLM_1985_f.Solver.WriteSiloMask            = False\n",
    "PFCLM_1985_f.Solver.WriteSiloSlopes          = False\n",
    "PFCLM_1985_f.Solver.WriteSiloSaturation      = False\n",
    "\n",
    "#write output in NetCDF\n",
    "write_netcdf = False\n",
    "#PFCLM_2D.NetCDF.NumStepsPerFile          = 240\n",
    "PFCLM_1985_f.NetCDF.WritePressure            = write_netcdf\n",
    "PFCLM_1985_f.NetCDF.WriteSubsurface          = False\n",
    "PFCLM_1985_f.NetCDF.WriteSaturation          = write_netcdf\n",
    "PFCLM_1985_f.NetCDF.WriteCLM                 = write_netcdf\n",
    "#PFCLM_2D.NetCDF.CLMNumStepsPerFile       = 240\n",
    "\n",
    "\n",
    "#---------------------------------------------------\n",
    "# LSM / CLM options\n",
    "#---------------------------------------------------\n",
    "\n",
    "# set LSM options to CLM\n",
    "PFCLM_1985_f.Solver.LSM              = 'CLM'\n",
    "# specify type of forcing, file name and location\n",
    "PFCLM_1985_f.Solver.CLM.MetForcing   = '1D'\n",
    "PFCLM_1985_f.Solver.CLM.MetFileName = 'forcing1D_1985_FS_TLE.txt'\n",
    "PFCLM_1985_f.Solver.CLM.MetFilePath  = os.getcwd() + '/../combo_txts/combo_forcing'\n",
    "\n",
    "# Set CLM Plant Water Use Parameters\n",
    "PFCLM_1985_f.Solver.CLM.EvapBeta       = 'Linear'\n",
    "PFCLM_1985_f.Solver.CLM.VegWaterStress = 'Saturation'\n",
    "PFCLM_1985_f.Solver.CLM.ResSat         = 0.2\n",
    "PFCLM_1985_f.Solver.CLM.WiltingPoint   = 0.2\n",
    "PFCLM_1985_f.Solver.CLM.FieldCapacity  = 1.00\n",
    "PFCLM_1985_f.Solver.CLM.IrrigationType = 'none'\n",
    "PFCLM_1985_f.Solver.CLM.RootZoneNZ     =  3   # layer used for seasonal Temp for LAI\n",
    "PFCLM_1985_f.Solver.CLM.SoiLayer       =  4   # root zone thickness, see above\n",
    "\n",
    "#PFCLM_2D.Solver.CLM.UseSlopeAspect = True\n",
    "\n",
    "#Writing output options for CLM\n",
    "#  no SILO, no native CLM logs\n",
    "PFCLM_1985_f.Solver.PrintLSMSink        = False\n",
    "PFCLM_1985_f.Solver.CLM.CLMDumpInterval = 1\n",
    "PFCLM_1985_f.Solver.CLM.CLMFileDir      = 'output/'\n",
    "PFCLM_1985_f.Solver.CLM.BinaryOutDir    = False\n",
    "PFCLM_1985_f.Solver.CLM.IstepStart      = 1\n",
    "PFCLM_1985_f.Solver.WriteCLMBinary      = False\n",
    "PFCLM_1985_f.Solver.WriteSiloCLM        = False\n",
    "PFCLM_1985_f.Solver.CLM.WriteLogs       = False\n",
    "PFCLM_1985_f.Solver.CLM.WriteLastRST    = True\n",
    "PFCLM_1985_f.Solver.CLM.DailyRST        = False\n",
    "PFCLM_1985_f.Solver.CLM.SingleFile      = True\n",
    "\n",
    "\n",
    "#---------------------------------------------------\n",
    "# Initial conditions: water pressure\n",
    "#---------------------------------------------------\n",
    "\n",
    "PFCLM_1985_f.ICPressure.Type                 = 'HydroStaticPatch'\n",
    "PFCLM_1985_f.ICPressure.GeomNames            = 'domain'\n",
    "PFCLM_1985_f.Geom.domain.ICPressure.Value    = -2.00  # pressure at 8760 step of previous run, same WY\n",
    "PFCLM_1985_f.Geom.domain.ICPressure.RefGeom  = 'domain'\n",
    "PFCLM_1985_f.Geom.domain.ICPressure.RefPatch = 'z_upper'"
   ]
  },
  {
   "cell_type": "code",
   "execution_count": 176,
   "id": "01452cc4-2954-4062-b5cc-ca9183de604c",
   "metadata": {},
   "outputs": [
    {
     "name": "stdout",
     "output_type": "stream",
     "text": [
      "\n",
      "# ==============================================================================\n",
      "# ParFlow directory\n",
      "#  - /home/SHARED/software/parflow/3.10.0\n",
      "# ParFlow version\n",
      "#  - 3.10.0\n",
      "# Working directory\n",
      "#  - /home/lrgrant/ParFlow/Clements_2D/output/output_1985/fudge\n",
      "# ParFlow database\n",
      "#  - PFCLM_1985_f.pfidb\n",
      "# ==============================================================================\n",
      "\n",
      "\n",
      "# ==============================================================================\n",
      "# ParFlow ran successfully 💦 💦 💦 \n",
      "# ==============================================================================\n",
      "\n"
     ]
    }
   ],
   "source": [
    "# run\n",
    "PFCLM_1985_f.run(working_directory = base)"
   ]
  },
  {
   "cell_type": "code",
   "execution_count": 177,
   "id": "fd6b8113-15fa-4ce0-865a-46f7087cff49",
   "metadata": {},
   "outputs": [
    {
     "name": "stdout",
     "output_type": "stream",
     "text": [
      "Warning: The following CLM variables could not be set:\n",
      "  - nt\n",
      "  - sw_ini\n",
      "  - hkdepth\n",
      "  - wtfact\n",
      "  - trsmx0\n",
      "  - smpmax\n",
      "  - pondmx\n",
      "\n",
      "# ==============================================================================\n",
      "# ParFlow directory\n",
      "#  - /home/SHARED/software/parflow/3.10.0\n",
      "# ParFlow version\n",
      "#  - 3.10.0\n",
      "# Working directory\n",
      "#  - /home/lrgrant/ParFlow/Clements_2D/output/output_1985/fudge\n",
      "# ParFlow database\n",
      "#  - PFCLM_1985_f.pfidb\n",
      "# ==============================================================================\n",
      "\n",
      "\n"
     ]
    },
    {
     "name": "stderr",
     "output_type": "stream",
     "text": [
      "/home/SHARED/virtual-environments/parflow-shared/conda/lib/python3.11/site-packages/parflow/tools/io.py:1300: FutureWarning: The 'delim_whitespace' keyword in pd.read_csv is deprecated and will be removed in a future version. Use ``sep='\\s+'`` instead\n",
      "  df = pd.read_csv(file_name, delim_whitespace=True, skiprows=2, header=None)\n"
     ]
    },
    {
     "name": "stdout",
     "output_type": "stream",
     "text": [
      "# ==============================================================================\n",
      "# ParFlow ran successfully 💦 💦 💦 \n",
      "# ==============================================================================\n",
      "\n"
     ]
    }
   ],
   "source": [
    "# re-initialize, re-run\n",
    "os.chdir(base)\n",
    "run = Run.from_definition('PFCLM_1985_f.pfidb')  # load the run from the file, this is the same as the run above\n",
    "data = run.data_accessor # get the data accessor, this makes it easier to access the data from the run\n",
    "nt = len(data.times)  # get the number of time steps\n",
    "nx = data.shape[2]    # get the number of cells in the x direction\n",
    "ny = data.shape[1]    # get the number of cells in the y direction\n",
    "nz = data.shape[0]    # get the number of cells in the z direction\n",
    "dx = data.dx          # get the cell size in the x direction\n",
    "dy = data.dy          # get the cell size in the y direction\n",
    "dz = data.dz          # get the cell size in the z direction, this is a 1D array of size nz\n",
    "\n",
    "# loading grid, pressure field to re-initialize and re-run with good i.c.\n",
    "nrows = nz\n",
    "ncols = nx\n",
    "# print(nrows, ncols)\n",
    "\n",
    "# load pressure field for last time step\n",
    "pressure_end = read_pfb(get_absolute_path('PFCLM_1985_f.out.press.08760.pfb')).reshape(nrows, ncols)\n",
    "\n",
    "# rearrange pressure field into a 3D array\n",
    "pressure_end_new = np.ones((nrows, ny, ncols))\n",
    "for i in range(nrows):\n",
    "    pressure_end_new[[i]] = pressure_end[i,:]\n",
    "\n",
    "# re-import write_pfb function so that the function runs and doesn't try to call boolean assigned before:\n",
    "from parflow.tools.io import write_pfb\n",
    "\n",
    "# write the new initial conditions into a file:\n",
    "write_pfb(get_absolute_path('PF_PressIC.pfb'), pressure_end_new)\n",
    "\n",
    "# we will change the \"initial condition pressure\" value to be the end value from the previous run\n",
    "PFCLM_1985_f.ICPressure.Type                 = 'PFBFile'\n",
    "PFCLM_1985_f.Geom.domain.ICPressure.FileName = 'PF_PressIC.pfb'\n",
    "\n",
    "# we will now run the model again\n",
    "PFCLM_1985_f.run(working_directory=base)"
   ]
  },
  {
   "cell_type": "code",
   "execution_count": 178,
   "id": "dc71beea-5033-4a9f-86fe-d504906adb61",
   "metadata": {},
   "outputs": [
    {
     "name": "stdout",
     "output_type": "stream",
     "text": [
      "Warning: The following CLM variables could not be set:\n",
      "  - nt\n",
      "  - sw_ini\n",
      "  - hkdepth\n",
      "  - wtfact\n",
      "  - trsmx0\n",
      "  - smpmax\n",
      "  - pondmx\n"
     ]
    },
    {
     "name": "stderr",
     "output_type": "stream",
     "text": [
      "/home/SHARED/virtual-environments/parflow-shared/conda/lib/python3.11/site-packages/parflow/tools/io.py:1300: FutureWarning: The 'delim_whitespace' keyword in pd.read_csv is deprecated and will be removed in a future version. Use ``sep='\\s+'`` instead\n",
      "  df = pd.read_csv(file_name, delim_whitespace=True, skiprows=2, header=None)\n"
     ]
    },
    {
     "name": "stdout",
     "output_type": "stream",
     "text": [
      "(8761, 1)\n"
     ]
    }
   ],
   "source": [
    "# save flux as txt\n",
    "os.chdir(base)\n",
    "run = Run.from_definition('PFCLM_1985_f.pfidb')  # load the run from the file, this is the same as the run above\n",
    "data = run.data_accessor # get the data accessor, this makes it easier to access the data from the run\n",
    "nx = data.shape[2]    # get the number of cells in the x direction\n",
    "nz = data.shape[0]    # get the number of cells in the z direction\n",
    "dx = data.dx          # get the cell size in the x direction\n",
    "dz = data.dz          # get the cell size in the z direction, this is a 1D array of size nz\n",
    "\n",
    "# load in the velocity files\n",
    "# get a list of all the velocity files in order\n",
    "Vx_files = sorted(glob(\"PFCLM_1985_f.out.velx.*.pfb\"))\n",
    "\n",
    "# read in all velocity files into a 3D NParray\n",
    "Vx_arrays = pf.read_pfb_sequence(Vx_files)\n",
    "\n",
    "# select velocities at the coastal boundary\n",
    "Vx = Vx_arrays[:,:,0,-1]\n",
    "\n",
    "flux = (Vx*dz)   # per unit width\n",
    "# print(flux.shape)\n",
    "\n",
    "# move into df\n",
    "plot_flux = np.sum(flux, axis=1)\n",
    "plot_flux = np.expand_dims(plot_flux, axis=1)\n",
    "print(plot_flux.shape)\n",
    "flux_out = pd.DataFrame(plot_flux)\n",
    "\n",
    "# save as csv\n",
    "os.chdir(\"/home/lrgrant/ParFlow/Clements_2D/output/output_1985/combo_txts\")\n",
    "flux_out.to_csv('FS_TLE_xflux.csv', sep = ' ', index=False, header=False)"
   ]
  },
  {
   "cell_type": "markdown",
   "id": "8f8d76bd-d12c-400f-ad81-eb667196a14c",
   "metadata": {
    "jp-MarkdownHeadingCollapsed": true
   },
   "source": [
    "## FS and THE"
   ]
  },
  {
   "cell_type": "markdown",
   "id": "a4e20e9f-0b54-4d18-b4a3-f69b293aa8d8",
   "metadata": {},
   "source": [
    "Runs by copying `FS and TLE`, and altering forcing file."
   ]
  },
  {
   "cell_type": "code",
   "execution_count": 179,
   "id": "13539a31-fbcc-47a1-8d00-9e035deb1bf2",
   "metadata": {},
   "outputs": [
    {
     "name": "stdout",
     "output_type": "stream",
     "text": [
      "Warning: The following CLM variables could not be set:\n",
      "  - nt\n",
      "  - sw_ini\n",
      "  - hkdepth\n",
      "  - wtfact\n",
      "  - trsmx0\n",
      "  - smpmax\n",
      "  - pondmx\n",
      "\n",
      "# ==============================================================================\n",
      "# ParFlow directory\n",
      "#  - /home/SHARED/software/parflow/3.10.0\n",
      "# ParFlow version\n",
      "#  - 3.10.0\n",
      "# Working directory\n",
      "#  - /home/lrgrant/ParFlow/Clements_2D/output/output_1985/fudge\n",
      "# ParFlow database\n",
      "#  - PFCLM_1985_f.pfidb\n",
      "# ==============================================================================\n",
      "\n"
     ]
    },
    {
     "name": "stderr",
     "output_type": "stream",
     "text": [
      "/home/SHARED/virtual-environments/parflow-shared/conda/lib/python3.11/site-packages/parflow/tools/io.py:1300: FutureWarning: The 'delim_whitespace' keyword in pd.read_csv is deprecated and will be removed in a future version. Use ``sep='\\s+'`` instead\n",
      "  df = pd.read_csv(file_name, delim_whitespace=True, skiprows=2, header=None)\n"
     ]
    },
    {
     "name": "stdout",
     "output_type": "stream",
     "text": [
      "\n",
      "# ==============================================================================\n",
      "# ParFlow ran successfully 💦 💦 💦 \n",
      "# ==============================================================================\n",
      "\n"
     ]
    }
   ],
   "source": [
    "os.chdir(base)\n",
    "# load run from above\n",
    "PFCLM_1985_f = Run.from_definition('PFCLM_1985_f.pfidb')\n",
    "\n",
    "# change forcing file\n",
    "PFCLM_1985_f.Solver.CLM.MetFileName = 'forcing1D_1985_FS_THE.txt'\n",
    "PFCLM_1985_f.Solver.CLM.MetFilePath  = os.getcwd() + '/../combo_txts/combo_forcing'\n",
    "\n",
    "# run\n",
    "PFCLM_1985_f.run(working_directory = base)"
   ]
  },
  {
   "cell_type": "code",
   "execution_count": 180,
   "id": "2622470a-4165-4330-93e7-7bbadbc3e56e",
   "metadata": {},
   "outputs": [
    {
     "name": "stdout",
     "output_type": "stream",
     "text": [
      "\n",
      "# ==============================================================================\n",
      "# ParFlow directory\n",
      "#  - /home/SHARED/software/parflow/3.10.0\n",
      "# ParFlow version\n",
      "#  - 3.10.0\n",
      "# Working directory\n",
      "#  - /home/lrgrant/ParFlow/Clements_2D/output/output_1985/fudge\n",
      "# ParFlow database\n",
      "#  - PFCLM_1985_f.pfidb\n",
      "# ==============================================================================\n",
      "\n",
      "\n",
      "# ==============================================================================\n",
      "# ParFlow ran successfully 💦 💦 💦 \n",
      "# ==============================================================================\n",
      "\n"
     ]
    }
   ],
   "source": [
    "# re-initialize, re-run\n",
    "os.chdir(base)\n",
    "run = Run.from_definition('PFCLM_1985_f.pfidb')  # load the run from the file, this is the same as the run above\n",
    "data = run.data_accessor # get the data accessor, this makes it easier to access the data from the run\n",
    "nt = len(data.times)  # get the number of time steps\n",
    "nx = data.shape[2]    # get the number of cells in the x direction\n",
    "ny = data.shape[1]    # get the number of cells in the y direction\n",
    "nz = data.shape[0]    # get the number of cells in the z direction\n",
    "dx = data.dx          # get the cell size in the x direction\n",
    "dy = data.dy          # get the cell size in the y direction\n",
    "dz = data.dz          # get the cell size in the z direction, this is a 1D array of size nz\n",
    "\n",
    "# loading grid, pressure field to re-initialize and re-run with good i.c.\n",
    "nrows = nz\n",
    "ncols = nx\n",
    "# print(nrows, ncols)\n",
    "\n",
    "# load pressure field for last time step\n",
    "pressure_end = read_pfb(get_absolute_path('PFCLM_1985_f.out.press.08760.pfb')).reshape(nrows, ncols)\n",
    "\n",
    "# rearrange pressure field into a 3D array\n",
    "pressure_end_new = np.ones((nrows, ny, ncols))\n",
    "for i in range(nrows):\n",
    "    pressure_end_new[[i]] = pressure_end[i,:]\n",
    "\n",
    "# re-import write_pfb function so that the function runs and doesn't try to call boolean assigned before:\n",
    "from parflow.tools.io import write_pfb\n",
    "\n",
    "# write the new initial conditions into a file:\n",
    "write_pfb(get_absolute_path('PF_PressIC.pfb'), pressure_end_new)\n",
    "\n",
    "# we will change the \"initial condition pressure\" value to be the end value from the previous run\n",
    "PFCLM_1985_f.ICPressure.Type                 = 'PFBFile'\n",
    "PFCLM_1985_f.Geom.domain.ICPressure.FileName = 'PF_PressIC.pfb'\n",
    "\n",
    "# we will now run the model again\n",
    "PFCLM_1985_f.run(working_directory=base)"
   ]
  },
  {
   "cell_type": "code",
   "execution_count": 181,
   "id": "6002a28b-4fbe-4f4b-9fd2-e32cedbfff3b",
   "metadata": {},
   "outputs": [
    {
     "name": "stdout",
     "output_type": "stream",
     "text": [
      "(8761, 1)\n"
     ]
    }
   ],
   "source": [
    "# save flux as txt\n",
    "os.chdir(base)\n",
    "run = Run.from_definition('PFCLM_1985_f.pfidb')  # load the run from the file, this is the same as the run above\n",
    "data = run.data_accessor # get the data accessor, this makes it easier to access the data from the run\n",
    "nx = data.shape[2]    # get the number of cells in the x direction\n",
    "nz = data.shape[0]    # get the number of cells in the z direction\n",
    "dx = data.dx          # get the cell size in the x direction\n",
    "dz = data.dz          # get the cell size in the z direction, this is a 1D array of size nz\n",
    "\n",
    "# load in the velocity files\n",
    "# get a list of all the velocity files in order\n",
    "Vx_files = sorted(glob(\"PFCLM_1985_f.out.velx.*.pfb\"))\n",
    "\n",
    "# read in all velocity files into a 3D NParray\n",
    "Vx_arrays = pf.read_pfb_sequence(Vx_files)\n",
    "\n",
    "# select velocities at the coastal boundary\n",
    "Vx = Vx_arrays[:,:,0,-1]\n",
    "\n",
    "flux = (Vx*dz)   # per unit width\n",
    "# print(flux.shape)\n",
    "\n",
    "plot_flux = np.sum(flux, axis=1)\n",
    "plot_flux = np.expand_dims(plot_flux, axis=1)\n",
    "print(plot_flux.shape)\n",
    "flux_out = pd.DataFrame(plot_flux)\n",
    "\n",
    "os.chdir(\"/home/lrgrant/ParFlow/Clements_2D/output/output_1985/combo_txts\")\n",
    "flux_out.to_csv('FS_THE_xflux.csv', sep = ' ', index=False, header=False)"
   ]
  },
  {
   "cell_type": "markdown",
   "id": "5c4a504c-b7e2-4f63-8f07-d1f3bb980d99",
   "metadata": {
    "jp-MarkdownHeadingCollapsed": true
   },
   "source": [
    "## MS and TLE"
   ]
  },
  {
   "cell_type": "markdown",
   "id": "633d1a64-a0fa-4736-8e59-2b7765921a62",
   "metadata": {},
   "source": [
    "Runs as above, with the following parameter alterations:\n",
    "> `PFCLM_1985_f.Solver.CLM.MetFileName = 'forcing1D_1985_MS_TLE.txt'` <br/>\n",
    "> `PFCLM_1985_f.Solver.CLM.MetFilePath  = os.getcwd() + '/../combo_txts/combo_forcing'`"
   ]
  },
  {
   "cell_type": "markdown",
   "id": "b938378c-c92b-4462-9753-9c7239aaa68a",
   "metadata": {
    "jp-MarkdownHeadingCollapsed": true
   },
   "source": [
    "## MS and THE"
   ]
  },
  {
   "cell_type": "markdown",
   "id": "121c3ff1-bded-4b35-8184-a09e30cff97f",
   "metadata": {},
   "source": [
    "Runs as above, with the following parameter alterations:\n",
    "> `PFCLM_1985_f.Solver.CLM.MetFileName = 'forcing1D_1985_MS_THE.txt'` <br/>\n",
    "> `PFCLM_1985_f.Solver.CLM.MetFilePath  = os.getcwd() + '/../combo_txts/combo_forcing'`"
   ]
  },
  {
   "cell_type": "markdown",
   "id": "83c794ac-f5c8-404a-a287-ce4893fbb3fd",
   "metadata": {
    "jp-MarkdownHeadingCollapsed": true
   },
   "source": [
    "## HP and TLE"
   ]
  },
  {
   "cell_type": "markdown",
   "id": "9de9f058-4778-4e6a-b249-b68287603e1e",
   "metadata": {},
   "source": [
    "Runs as above, with the following parameter alterations:\n",
    "> `PFCLM_1985_f.Solver.CLM.MetFileName = 'forcing1D_1985_HP_TLE.txt'` <br/>\n",
    "> `PFCLM_1985_f.Solver.CLM.MetFilePath  = os.getcwd() + '/../combo_txts/combo_forcing'`"
   ]
  },
  {
   "cell_type": "markdown",
   "id": "1c177b20-38c0-43df-82e6-e37369a332ce",
   "metadata": {
    "jp-MarkdownHeadingCollapsed": true
   },
   "source": [
    "## HP and THE"
   ]
  },
  {
   "cell_type": "markdown",
   "id": "7e9ce790-c7f7-49de-898f-aae26d3844b2",
   "metadata": {},
   "source": [
    "Runs as above, with the following parameter alterations:\n",
    "> `PFCLM_1985_f.Solver.CLM.MetFileName = 'forcing1D_1985_HP_THE.txt'` <br/>\n",
    "> `PFCLM_1985_f.Solver.CLM.MetFilePath  = os.getcwd() + '/../combo_txts/combo_forcing'`"
   ]
  }
 ],
 "metadata": {
  "kernelspec": {
   "display_name": "Python 3 (ipykernel)",
   "language": "python",
   "name": "python3"
  },
  "language_info": {
   "codemirror_mode": {
    "name": "ipython",
    "version": 3
   },
   "file_extension": ".py",
   "mimetype": "text/x-python",
   "name": "python",
   "nbconvert_exporter": "python",
   "pygments_lexer": "ipython3",
   "version": "3.11.4"
  }
 },
 "nbformat": 4,
 "nbformat_minor": 5
}
